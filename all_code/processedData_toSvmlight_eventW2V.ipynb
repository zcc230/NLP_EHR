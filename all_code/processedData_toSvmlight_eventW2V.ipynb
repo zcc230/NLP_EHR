{
 "cells": [
  {
   "cell_type": "code",
   "execution_count": 1,
   "metadata": {
    "collapsed": false
   },
   "outputs": [
    {
     "name": "stderr",
     "output_type": "stream",
     "text": [
      "C:\\Users\\Daniel\\Anaconda3\\envs\\py27\\lib\\site-packages\\gensim\\utils.py:855: UserWarning: detected Windows; aliasing chunkize to chunkize_serial\n",
      "  warnings.warn(\"detected Windows; aliasing chunkize to chunkize_serial\")\n"
     ]
    }
   ],
   "source": [
    "import numpy as np\n",
    "import pandas as pd\n",
    "import gensim as gs\n",
    "from gensim.models import Word2Vec as wv\n",
    "\n",
    "from operator import itemgetter"
   ]
  },
  {
   "cell_type": "markdown",
   "metadata": {},
   "source": [
    "### Load Case Data\n",
    "\n",
    "load case data"
   ]
  },
  {
   "cell_type": "code",
   "execution_count": 2,
   "metadata": {
    "collapsed": true
   },
   "outputs": [],
   "source": [
    "without_time = False\n",
    "\n",
    "if without_time:\n",
    "    caseFilename = \"./cleaned_data/case.csv\"\n",
    "else:\n",
    "    caseFilename = \"./cleaned_data/case_w_time.csv\""
   ]
  },
  {
   "cell_type": "code",
   "execution_count": 3,
   "metadata": {
    "collapsed": false
   },
   "outputs": [
    {
     "data": {
      "text/html": [
       "<div>\n",
       "<table border=\"1\" class=\"dataframe\">\n",
       "  <thead>\n",
       "    <tr style=\"text-align: right;\">\n",
       "      <th></th>\n",
       "      <th>Unnamed: 0</th>\n",
       "      <th>SUBJECT_ID</th>\n",
       "      <th>TIME</th>\n",
       "      <th>EVE_INDEX</th>\n",
       "    </tr>\n",
       "  </thead>\n",
       "  <tbody>\n",
       "    <tr>\n",
       "      <th>0</th>\n",
       "      <td>0</td>\n",
       "      <td>10168</td>\n",
       "      <td>2110-12-02 14:57:00</td>\n",
       "      <td>507</td>\n",
       "    </tr>\n",
       "    <tr>\n",
       "      <th>1</th>\n",
       "      <td>1</td>\n",
       "      <td>10168</td>\n",
       "      <td>2110-12-02 14:57:00</td>\n",
       "      <td>1069</td>\n",
       "    </tr>\n",
       "    <tr>\n",
       "      <th>2</th>\n",
       "      <td>2</td>\n",
       "      <td>10168</td>\n",
       "      <td>2110-12-02 14:57:00</td>\n",
       "      <td>519</td>\n",
       "    </tr>\n",
       "    <tr>\n",
       "      <th>3</th>\n",
       "      <td>3</td>\n",
       "      <td>10168</td>\n",
       "      <td>2110-12-02 14:57:00</td>\n",
       "      <td>427</td>\n",
       "    </tr>\n",
       "    <tr>\n",
       "      <th>4</th>\n",
       "      <td>4</td>\n",
       "      <td>10168</td>\n",
       "      <td>2110-12-02 14:57:00</td>\n",
       "      <td>1042</td>\n",
       "    </tr>\n",
       "  </tbody>\n",
       "</table>\n",
       "</div>"
      ],
      "text/plain": [
       "   Unnamed: 0  SUBJECT_ID                 TIME  EVE_INDEX\n",
       "0           0       10168  2110-12-02 14:57:00        507\n",
       "1           1       10168  2110-12-02 14:57:00       1069\n",
       "2           2       10168  2110-12-02 14:57:00        519\n",
       "3           3       10168  2110-12-02 14:57:00        427\n",
       "4           4       10168  2110-12-02 14:57:00       1042"
      ]
     },
     "execution_count": 3,
     "metadata": {},
     "output_type": "execute_result"
    }
   ],
   "source": [
    "caseDF = pd.read_csv(caseFilename, sep=',')\n",
    "caseDF.head()"
   ]
  },
  {
   "cell_type": "code",
   "execution_count": 4,
   "metadata": {
    "collapsed": false
   },
   "outputs": [
    {
     "data": {
      "text/html": [
       "<div>\n",
       "<table border=\"1\" class=\"dataframe\">\n",
       "  <thead>\n",
       "    <tr style=\"text-align: right;\">\n",
       "      <th></th>\n",
       "      <th>SUBJECT_ID</th>\n",
       "      <th>EVE_INDEX</th>\n",
       "      <th>VALUE</th>\n",
       "      <th>HF</th>\n",
       "    </tr>\n",
       "  </thead>\n",
       "  <tbody>\n",
       "    <tr>\n",
       "      <th>0</th>\n",
       "      <td>111</td>\n",
       "      <td>208</td>\n",
       "      <td>1</td>\n",
       "      <td>1</td>\n",
       "    </tr>\n",
       "    <tr>\n",
       "      <th>1</th>\n",
       "      <td>111</td>\n",
       "      <td>368</td>\n",
       "      <td>1</td>\n",
       "      <td>1</td>\n",
       "    </tr>\n",
       "    <tr>\n",
       "      <th>2</th>\n",
       "      <td>111</td>\n",
       "      <td>372</td>\n",
       "      <td>1</td>\n",
       "      <td>1</td>\n",
       "    </tr>\n",
       "    <tr>\n",
       "      <th>3</th>\n",
       "      <td>111</td>\n",
       "      <td>467</td>\n",
       "      <td>1</td>\n",
       "      <td>1</td>\n",
       "    </tr>\n",
       "    <tr>\n",
       "      <th>4</th>\n",
       "      <td>111</td>\n",
       "      <td>484</td>\n",
       "      <td>1</td>\n",
       "      <td>1</td>\n",
       "    </tr>\n",
       "  </tbody>\n",
       "</table>\n",
       "</div>"
      ],
      "text/plain": [
       "   SUBJECT_ID  EVE_INDEX  VALUE  HF\n",
       "0         111        208      1   1\n",
       "1         111        368      1   1\n",
       "2         111        372      1   1\n",
       "3         111        467      1   1\n",
       "4         111        484      1   1"
      ]
     },
     "execution_count": 4,
     "metadata": {},
     "output_type": "execute_result"
    }
   ],
   "source": [
    "caseDF = caseDF.groupby(['SUBJECT_ID', 'EVE_INDEX'])['EVE_INDEX'].size().reset_index()\n",
    "caseDF[\"HF\"] = 1\n",
    "caseDF.columns = (['SUBJECT_ID','EVE_INDEX','VALUE','HF'])\n",
    "caseDF.head()"
   ]
  },
  {
   "cell_type": "code",
   "execution_count": null,
   "metadata": {
    "collapsed": true
   },
   "outputs": [],
   "source": []
  },
  {
   "cell_type": "code",
   "execution_count": null,
   "metadata": {
    "collapsed": true
   },
   "outputs": [],
   "source": []
  },
  {
   "cell_type": "markdown",
   "metadata": {},
   "source": [
    "### Load control data\n",
    "\n",
    "load control data -> get counts of the events -> add 0 for HF"
   ]
  },
  {
   "cell_type": "code",
   "execution_count": 5,
   "metadata": {
    "collapsed": true
   },
   "outputs": [],
   "source": [
    "if without_time:\n",
    "    controlFilename = \"./cleaned_data/control.csv\"\n",
    "else:\n",
    "    controlFilename = \"./cleaned_data/control_w_time.csv\""
   ]
  },
  {
   "cell_type": "code",
   "execution_count": 6,
   "metadata": {
    "collapsed": false,
    "scrolled": true
   },
   "outputs": [
    {
     "data": {
      "text/html": [
       "<div>\n",
       "<table border=\"1\" class=\"dataframe\">\n",
       "  <thead>\n",
       "    <tr style=\"text-align: right;\">\n",
       "      <th></th>\n",
       "      <th>Unnamed: 0</th>\n",
       "      <th>SUBJECT_ID</th>\n",
       "      <th>TIME</th>\n",
       "      <th>EVE_INDEX</th>\n",
       "    </tr>\n",
       "  </thead>\n",
       "  <tbody>\n",
       "    <tr>\n",
       "      <th>0</th>\n",
       "      <td>0</td>\n",
       "      <td>10008</td>\n",
       "      <td>2142-06-28 00:00:00</td>\n",
       "      <td>4264</td>\n",
       "    </tr>\n",
       "    <tr>\n",
       "      <th>1</th>\n",
       "      <td>1</td>\n",
       "      <td>10008</td>\n",
       "      <td>2142-06-28 00:00:00</td>\n",
       "      <td>3505</td>\n",
       "    </tr>\n",
       "    <tr>\n",
       "      <th>2</th>\n",
       "      <td>2</td>\n",
       "      <td>10008</td>\n",
       "      <td>2142-06-28 00:00:00</td>\n",
       "      <td>4435</td>\n",
       "    </tr>\n",
       "    <tr>\n",
       "      <th>3</th>\n",
       "      <td>3</td>\n",
       "      <td>10008</td>\n",
       "      <td>2142-06-28 00:00:00</td>\n",
       "      <td>3520</td>\n",
       "    </tr>\n",
       "    <tr>\n",
       "      <th>4</th>\n",
       "      <td>4</td>\n",
       "      <td>10008</td>\n",
       "      <td>2142-06-28 09:04:00</td>\n",
       "      <td>1068</td>\n",
       "    </tr>\n",
       "  </tbody>\n",
       "</table>\n",
       "</div>"
      ],
      "text/plain": [
       "   Unnamed: 0  SUBJECT_ID                 TIME  EVE_INDEX\n",
       "0           0       10008  2142-06-28 00:00:00       4264\n",
       "1           1       10008  2142-06-28 00:00:00       3505\n",
       "2           2       10008  2142-06-28 00:00:00       4435\n",
       "3           3       10008  2142-06-28 00:00:00       3520\n",
       "4           4       10008  2142-06-28 09:04:00       1068"
      ]
     },
     "execution_count": 6,
     "metadata": {},
     "output_type": "execute_result"
    }
   ],
   "source": [
    "controlDF = pd.read_csv(controlFilename, sep=',')\n",
    "controlDF.head()"
   ]
  },
  {
   "cell_type": "code",
   "execution_count": 7,
   "metadata": {
    "collapsed": false
   },
   "outputs": [
    {
     "data": {
      "text/html": [
       "<div>\n",
       "<table border=\"1\" class=\"dataframe\">\n",
       "  <thead>\n",
       "    <tr style=\"text-align: right;\">\n",
       "      <th></th>\n",
       "      <th>SUBJECT_ID</th>\n",
       "      <th>EVE_INDEX</th>\n",
       "      <th>VALUE</th>\n",
       "      <th>HF</th>\n",
       "    </tr>\n",
       "  </thead>\n",
       "  <tbody>\n",
       "    <tr>\n",
       "      <th>0</th>\n",
       "      <td>94</td>\n",
       "      <td>191</td>\n",
       "      <td>1</td>\n",
       "      <td>0</td>\n",
       "    </tr>\n",
       "    <tr>\n",
       "      <th>1</th>\n",
       "      <td>94</td>\n",
       "      <td>372</td>\n",
       "      <td>1</td>\n",
       "      <td>0</td>\n",
       "    </tr>\n",
       "    <tr>\n",
       "      <th>2</th>\n",
       "      <td>94</td>\n",
       "      <td>381</td>\n",
       "      <td>1</td>\n",
       "      <td>0</td>\n",
       "    </tr>\n",
       "    <tr>\n",
       "      <th>3</th>\n",
       "      <td>94</td>\n",
       "      <td>408</td>\n",
       "      <td>1</td>\n",
       "      <td>0</td>\n",
       "    </tr>\n",
       "    <tr>\n",
       "      <th>4</th>\n",
       "      <td>94</td>\n",
       "      <td>427</td>\n",
       "      <td>1</td>\n",
       "      <td>0</td>\n",
       "    </tr>\n",
       "  </tbody>\n",
       "</table>\n",
       "</div>"
      ],
      "text/plain": [
       "   SUBJECT_ID  EVE_INDEX  VALUE  HF\n",
       "0          94        191      1   0\n",
       "1          94        372      1   0\n",
       "2          94        381      1   0\n",
       "3          94        408      1   0\n",
       "4          94        427      1   0"
      ]
     },
     "execution_count": 7,
     "metadata": {},
     "output_type": "execute_result"
    }
   ],
   "source": [
    "controlDF = controlDF.groupby(['SUBJECT_ID', 'EVE_INDEX'])['EVE_INDEX'].size().reset_index()\n",
    "controlDF[\"HF\"] = 0\n",
    "controlDF.columns = (['SUBJECT_ID','EVE_INDEX','VALUE','HF'])\n",
    "controlDF.head()"
   ]
  },
  {
   "cell_type": "code",
   "execution_count": null,
   "metadata": {
    "collapsed": true
   },
   "outputs": [],
   "source": []
  },
  {
   "cell_type": "markdown",
   "metadata": {},
   "source": [
    "### Concatenate case and control Data"
   ]
  },
  {
   "cell_type": "code",
   "execution_count": 8,
   "metadata": {
    "collapsed": true
   },
   "outputs": [],
   "source": [
    "ccDF = pd.concat([caseDF, controlDF], ignore_index=True)\n"
   ]
  },
  {
   "cell_type": "code",
   "execution_count": 9,
   "metadata": {
    "collapsed": false
   },
   "outputs": [
    {
     "data": {
      "text/html": [
       "<div>\n",
       "<table border=\"1\" class=\"dataframe\">\n",
       "  <thead>\n",
       "    <tr style=\"text-align: right;\">\n",
       "      <th></th>\n",
       "      <th>SUBJECT_ID</th>\n",
       "      <th>EVE_INDEX</th>\n",
       "      <th>VALUE</th>\n",
       "      <th>HF</th>\n",
       "    </tr>\n",
       "  </thead>\n",
       "  <tbody>\n",
       "    <tr>\n",
       "      <th>0</th>\n",
       "      <td>111</td>\n",
       "      <td>208</td>\n",
       "      <td>1</td>\n",
       "      <td>1</td>\n",
       "    </tr>\n",
       "    <tr>\n",
       "      <th>1</th>\n",
       "      <td>111</td>\n",
       "      <td>368</td>\n",
       "      <td>1</td>\n",
       "      <td>1</td>\n",
       "    </tr>\n",
       "    <tr>\n",
       "      <th>2</th>\n",
       "      <td>111</td>\n",
       "      <td>372</td>\n",
       "      <td>1</td>\n",
       "      <td>1</td>\n",
       "    </tr>\n",
       "    <tr>\n",
       "      <th>3</th>\n",
       "      <td>111</td>\n",
       "      <td>467</td>\n",
       "      <td>1</td>\n",
       "      <td>1</td>\n",
       "    </tr>\n",
       "    <tr>\n",
       "      <th>4</th>\n",
       "      <td>111</td>\n",
       "      <td>484</td>\n",
       "      <td>1</td>\n",
       "      <td>1</td>\n",
       "    </tr>\n",
       "  </tbody>\n",
       "</table>\n",
       "</div>"
      ],
      "text/plain": [
       "   SUBJECT_ID  EVE_INDEX  VALUE  HF\n",
       "0         111        208      1   1\n",
       "1         111        368      1   1\n",
       "2         111        372      1   1\n",
       "3         111        467      1   1\n",
       "4         111        484      1   1"
      ]
     },
     "execution_count": 9,
     "metadata": {},
     "output_type": "execute_result"
    }
   ],
   "source": [
    "ccDF.head()"
   ]
  },
  {
   "cell_type": "code",
   "execution_count": 10,
   "metadata": {
    "collapsed": false,
    "scrolled": true
   },
   "outputs": [
    {
     "name": "stdout",
     "output_type": "stream",
     "text": [
      "4908\n"
     ]
    }
   ],
   "source": [
    "print ccDF.EVE_INDEX.values.max()"
   ]
  },
  {
   "cell_type": "code",
   "execution_count": null,
   "metadata": {
    "collapsed": true
   },
   "outputs": [],
   "source": []
  },
  {
   "cell_type": "markdown",
   "metadata": {},
   "source": [
    "### Load Word2Vec Model\n",
    "\n"
   ]
  },
  {
   "cell_type": "code",
   "execution_count": 11,
   "metadata": {
    "collapsed": true
   },
   "outputs": [],
   "source": [
    "# w2vFilename = \"word2vec_model/w2vmodel\" # number of \"words\" 12342\n",
    "# w2vFilename = \"word2vec_model/w2vmodel_mv\" # number of \"words\" 10932\n",
    "# w2vFilename = \"word2vec_model/w2vmodel_mv_wt\" # number of \"words\" 4898\n",
    "w2vFilename = \"word2vec_model/w2vmodel_wt\" # number of \"words\" 4908"
   ]
  },
  {
   "cell_type": "code",
   "execution_count": 12,
   "metadata": {
    "collapsed": true
   },
   "outputs": [],
   "source": [
    "model = wv.load(w2vFilename)"
   ]
  },
  {
   "cell_type": "code",
   "execution_count": 13,
   "metadata": {
    "collapsed": false
   },
   "outputs": [
    {
     "data": {
      "text/plain": [
       "'\\n# figure out how many words are in each file:\\nfor i in xrange(1,100000):\\n    model.wv[str(i)]\\n'"
      ]
     },
     "execution_count": 13,
     "metadata": {},
     "output_type": "execute_result"
    }
   ],
   "source": [
    "\"\"\"\n",
    "# figure out how many words are in each file:\n",
    "for i in xrange(1,100000):\n",
    "    model.wv[str(i)]\n",
    "\"\"\"\n"
   ]
  },
  {
   "cell_type": "code",
   "execution_count": 14,
   "metadata": {
    "collapsed": true
   },
   "outputs": [],
   "source": [
    "numEvents = 4908"
   ]
  },
  {
   "cell_type": "code",
   "execution_count": 15,
   "metadata": {
    "collapsed": false
   },
   "outputs": [
    {
     "data": {
      "text/plain": [
       "array([  9.12749767e-02,   1.72770634e-01,  -8.64839330e-02,\n",
       "         4.92569543e-02,   8.51974636e-02,   8.94424245e-02,\n",
       "         8.10873434e-02,  -2.12554913e-02,  -9.07133892e-02,\n",
       "        -4.44544643e-01,  -9.39155966e-02,  -1.42273277e-01,\n",
       "        -9.20310393e-02,  -7.54970163e-02,   2.17612788e-01,\n",
       "        -1.37646040e-02,   1.14285141e-01,  -1.86925665e-01,\n",
       "         1.06518082e-01,   1.19199879e-01,  -8.87205675e-02,\n",
       "         6.41254038e-02,  -7.46387243e-02,   1.46333680e-01,\n",
       "        -2.16454089e-01,  -1.44739985e-01,   2.97411159e-03,\n",
       "         7.57252797e-02,   4.98889163e-02,  -1.22849703e-01,\n",
       "        -1.23999389e-02,   9.41355005e-02,   6.62142597e-03,\n",
       "         1.22349113e-01,   7.98727274e-02,  -1.93570286e-01,\n",
       "        -8.96727517e-02,  -8.83859843e-02,   2.83745900e-02,\n",
       "        -2.79099997e-02,   1.36267290e-01,   9.97283384e-02,\n",
       "        -3.14190164e-02,   7.15878233e-02,   2.59285029e-02,\n",
       "        -1.68913707e-01,   1.46062225e-02,   2.18062967e-01,\n",
       "         3.34368609e-02,   3.64511535e-02,  -2.77689368e-01,\n",
       "         2.64262974e-01,   1.47350505e-01,   1.58838823e-01,\n",
       "        -7.46692941e-02,  -1.08851947e-01,  -4.26875129e-02,\n",
       "        -2.76491437e-02,   3.37022617e-02,   1.50116086e-01,\n",
       "         1.44966617e-01,  -6.47283159e-03,   1.93119317e-01,\n",
       "        -3.04810435e-01,   8.29048380e-02,  -3.41107726e-01,\n",
       "         1.30385906e-01,  -5.52126504e-02,  -2.98802108e-01,\n",
       "        -1.78715870e-01,   3.27051170e-02,  -6.59409612e-02,\n",
       "         4.50425670e-02,  -1.65898681e-01,   2.42342204e-01,\n",
       "         5.02328426e-02,  -3.46996909e-04,  -1.24164380e-01,\n",
       "         3.19787376e-02,  -7.06728250e-02,   9.84478667e-02,\n",
       "        -1.88210666e-01,  -1.11997426e-01,   8.02779794e-02,\n",
       "        -2.01815721e-02,  -6.71954677e-02,  -6.69666454e-02,\n",
       "         5.57313338e-02,   1.41354486e-01,   2.01153625e-02,\n",
       "        -1.40228316e-01,   5.23438863e-02,   2.94011533e-01,\n",
       "        -1.31672829e-01,   3.99574675e-02,  -4.05724905e-02,\n",
       "        -2.93814689e-01,   2.02599868e-01,  -2.90199727e-01,\n",
       "         1.08522967e-01], dtype=float32)"
      ]
     },
     "execution_count": 15,
     "metadata": {},
     "output_type": "execute_result"
    }
   ],
   "source": [
    "model.wv['67']"
   ]
  },
  {
   "cell_type": "code",
   "execution_count": 16,
   "metadata": {
    "collapsed": true
   },
   "outputs": [],
   "source": [
    "w2vList = []\n",
    "for event in xrange(1,numEvents+1):\n",
    "    w2vList.append([event,np.mean(model[str(event)])])"
   ]
  },
  {
   "cell_type": "code",
   "execution_count": null,
   "metadata": {
    "collapsed": true
   },
   "outputs": [],
   "source": []
  },
  {
   "cell_type": "code",
   "execution_count": 17,
   "metadata": {
    "collapsed": false
   },
   "outputs": [
    {
     "data": {
      "text/html": [
       "<div>\n",
       "<table border=\"1\" class=\"dataframe\">\n",
       "  <thead>\n",
       "    <tr style=\"text-align: right;\">\n",
       "      <th></th>\n",
       "      <th>EVE_INDEX</th>\n",
       "      <th>VALUE</th>\n",
       "    </tr>\n",
       "  </thead>\n",
       "  <tbody>\n",
       "    <tr>\n",
       "      <th>0</th>\n",
       "      <td>1</td>\n",
       "      <td>0.001460</td>\n",
       "    </tr>\n",
       "    <tr>\n",
       "      <th>1</th>\n",
       "      <td>2</td>\n",
       "      <td>-0.005085</td>\n",
       "    </tr>\n",
       "    <tr>\n",
       "      <th>2</th>\n",
       "      <td>3</td>\n",
       "      <td>-0.007838</td>\n",
       "    </tr>\n",
       "    <tr>\n",
       "      <th>3</th>\n",
       "      <td>4</td>\n",
       "      <td>-0.000361</td>\n",
       "    </tr>\n",
       "    <tr>\n",
       "      <th>4</th>\n",
       "      <td>5</td>\n",
       "      <td>0.009049</td>\n",
       "    </tr>\n",
       "  </tbody>\n",
       "</table>\n",
       "</div>"
      ],
      "text/plain": [
       "   EVE_INDEX     VALUE\n",
       "0          1  0.001460\n",
       "1          2 -0.005085\n",
       "2          3 -0.007838\n",
       "3          4 -0.000361\n",
       "4          5  0.009049"
      ]
     },
     "execution_count": 17,
     "metadata": {},
     "output_type": "execute_result"
    }
   ],
   "source": [
    "w2vDF = pd.DataFrame(w2vList)\n",
    "w2vDF.columns = (['EVE_INDEX','VALUE'])\n",
    "w2vDF.head()"
   ]
  },
  {
   "cell_type": "code",
   "execution_count": null,
   "metadata": {
    "collapsed": true
   },
   "outputs": [],
   "source": []
  },
  {
   "cell_type": "code",
   "execution_count": 18,
   "metadata": {
    "collapsed": false
   },
   "outputs": [
    {
     "data": {
      "text/html": [
       "<div>\n",
       "<table border=\"1\" class=\"dataframe\">\n",
       "  <thead>\n",
       "    <tr style=\"text-align: right;\">\n",
       "      <th></th>\n",
       "      <th>SUBJECT_ID</th>\n",
       "      <th>EVE_INDEX</th>\n",
       "      <th>VALUE_x</th>\n",
       "      <th>HF</th>\n",
       "      <th>VALUE_y</th>\n",
       "    </tr>\n",
       "  </thead>\n",
       "  <tbody>\n",
       "    <tr>\n",
       "      <th>0</th>\n",
       "      <td>111</td>\n",
       "      <td>208</td>\n",
       "      <td>1</td>\n",
       "      <td>1</td>\n",
       "      <td>-0.00886</td>\n",
       "    </tr>\n",
       "    <tr>\n",
       "      <th>1</th>\n",
       "      <td>394</td>\n",
       "      <td>208</td>\n",
       "      <td>1</td>\n",
       "      <td>1</td>\n",
       "      <td>-0.00886</td>\n",
       "    </tr>\n",
       "    <tr>\n",
       "      <th>2</th>\n",
       "      <td>665</td>\n",
       "      <td>208</td>\n",
       "      <td>1</td>\n",
       "      <td>1</td>\n",
       "      <td>-0.00886</td>\n",
       "    </tr>\n",
       "    <tr>\n",
       "      <th>3</th>\n",
       "      <td>1104</td>\n",
       "      <td>208</td>\n",
       "      <td>2</td>\n",
       "      <td>1</td>\n",
       "      <td>-0.00886</td>\n",
       "    </tr>\n",
       "    <tr>\n",
       "      <th>4</th>\n",
       "      <td>2586</td>\n",
       "      <td>208</td>\n",
       "      <td>1</td>\n",
       "      <td>1</td>\n",
       "      <td>-0.00886</td>\n",
       "    </tr>\n",
       "  </tbody>\n",
       "</table>\n",
       "</div>"
      ],
      "text/plain": [
       "   SUBJECT_ID  EVE_INDEX  VALUE_x  HF  VALUE_y\n",
       "0         111        208        1   1 -0.00886\n",
       "1         394        208        1   1 -0.00886\n",
       "2         665        208        1   1 -0.00886\n",
       "3        1104        208        2   1 -0.00886\n",
       "4        2586        208        1   1 -0.00886"
      ]
     },
     "execution_count": 18,
     "metadata": {},
     "output_type": "execute_result"
    }
   ],
   "source": [
    "fullDF = pd.merge(ccDF, w2vDF, on='EVE_INDEX')\n",
    "fullDF.head()"
   ]
  },
  {
   "cell_type": "code",
   "execution_count": 19,
   "metadata": {
    "collapsed": false
   },
   "outputs": [
    {
     "data": {
      "text/html": [
       "<div>\n",
       "<table border=\"1\" class=\"dataframe\">\n",
       "  <thead>\n",
       "    <tr style=\"text-align: right;\">\n",
       "      <th></th>\n",
       "      <th>SUBJECT_ID</th>\n",
       "      <th>EVE_INDEX</th>\n",
       "      <th>VALUE</th>\n",
       "      <th>HF</th>\n",
       "    </tr>\n",
       "  </thead>\n",
       "  <tbody>\n",
       "    <tr>\n",
       "      <th>0</th>\n",
       "      <td>111</td>\n",
       "      <td>208</td>\n",
       "      <td>-0.00886</td>\n",
       "      <td>1</td>\n",
       "    </tr>\n",
       "    <tr>\n",
       "      <th>1</th>\n",
       "      <td>394</td>\n",
       "      <td>208</td>\n",
       "      <td>-0.00886</td>\n",
       "      <td>1</td>\n",
       "    </tr>\n",
       "    <tr>\n",
       "      <th>2</th>\n",
       "      <td>665</td>\n",
       "      <td>208</td>\n",
       "      <td>-0.00886</td>\n",
       "      <td>1</td>\n",
       "    </tr>\n",
       "    <tr>\n",
       "      <th>3</th>\n",
       "      <td>1104</td>\n",
       "      <td>208</td>\n",
       "      <td>-0.00886</td>\n",
       "      <td>1</td>\n",
       "    </tr>\n",
       "    <tr>\n",
       "      <th>4</th>\n",
       "      <td>2586</td>\n",
       "      <td>208</td>\n",
       "      <td>-0.00886</td>\n",
       "      <td>1</td>\n",
       "    </tr>\n",
       "  </tbody>\n",
       "</table>\n",
       "</div>"
      ],
      "text/plain": [
       "   SUBJECT_ID  EVE_INDEX    VALUE  HF\n",
       "0         111        208 -0.00886   1\n",
       "1         394        208 -0.00886   1\n",
       "2         665        208 -0.00886   1\n",
       "3        1104        208 -0.00886   1\n",
       "4        2586        208 -0.00886   1"
      ]
     },
     "execution_count": 19,
     "metadata": {},
     "output_type": "execute_result"
    }
   ],
   "source": [
    "fullDF = fullDF[['SUBJECT_ID','EVE_INDEX','VALUE_y','HF']]\n",
    "fullDF.columns = (['SUBJECT_ID','EVE_INDEX','VALUE','HF'])\n",
    "fullDF.head()"
   ]
  },
  {
   "cell_type": "markdown",
   "metadata": {},
   "source": [
    "### Assemble dict of features, value tuples"
   ]
  },
  {
   "cell_type": "code",
   "execution_count": 20,
   "metadata": {
    "collapsed": true
   },
   "outputs": [],
   "source": [
    "patient_features = {}\n",
    "\n",
    "for row in fullDF.itertuples():\n",
    "    if row[1] not in patient_features:\n",
    "        patient_features[row[1]] = []\n",
    "    entry = (row[2], row[3])\n",
    "    patient_features[row[1]].append(entry)\n",
    "\n",
    "hfDF = fullDF[['SUBJECT_ID', 'HF']]\n",
    "\n",
    "hfLabel = {}\n",
    "for row in hfDF.itertuples():\n",
    "    if row[1] not in hfLabel:\n",
    "        if row[2] == 1:\n",
    "            hfLabel[row[1]] = 1\n",
    "        else:\n",
    "            hfLabel[row[1]] = 0"
   ]
  },
  {
   "cell_type": "code",
   "execution_count": 21,
   "metadata": {
    "collapsed": false
   },
   "outputs": [
    {
     "data": {
      "text/plain": [
       "[(208, -0.0088597238063812256),\n",
       " (368, 0.02057897113263607),\n",
       " (372, 0.022947700694203377),\n",
       " (467, 0.022865088656544685),\n",
       " (496, -0.0096948128193616867),\n",
       " (507, 0.024237528443336487),\n",
       " (966, 0.025913562625646591),\n",
       " (1016, 0.023672915995121002),\n",
       " (1195, 0.016318388283252716),\n",
       " (1462, 0.029055427759885788),\n",
       " (1491, 0.023539276793599129),\n",
       " (1497, 0.013786486349999905),\n",
       " (2046, 0.03238409012556076),\n",
       " (2232, 0.0014141473220661283),\n",
       " (2233, 0.012805505655705929),\n",
       " (2557, -0.0031014252454042435),\n",
       " (2677, 0.026324596256017685),\n",
       " (2836, 0.0074840323068201542),\n",
       " (2892, 0.023581657558679581),\n",
       " (3137, 0.010779570788145065),\n",
       " (3152, 0.027649072930216789),\n",
       " (3173, -0.0073043350130319595),\n",
       " (3305, -0.013071508146822453),\n",
       " (3390, 0.036173474043607712),\n",
       " (3668, 0.033763088285923004),\n",
       " (3695, 0.011101148091256618),\n",
       " (3825, -0.013362876139581203),\n",
       " (3976, -0.011290004476904869),\n",
       " (4073, 0.0091795418411493301),\n",
       " (4265, 0.008207494392991066),\n",
       " (4326, 0.010863864794373512),\n",
       " (4735, 0.01918594166636467),\n",
       " (4903, -0.010401324369013309),\n",
       " (4908, -0.010684732347726822),\n",
       " (1625, -0.0040791681967675686),\n",
       " (3041, 0.0057404800318181515),\n",
       " (3308, -0.016543688252568245),\n",
       " (4141, 0.03126874566078186),\n",
       " (4413, -0.0035018560010939837),\n",
       " (4907, -0.0042937532998621464),\n",
       " (491, 0.060798835009336472),\n",
       " (1478, 0.062353804707527161),\n",
       " (1726, 0.0021629165858030319),\n",
       " (2637, 0.033965714275836945),\n",
       " (3048, 0.0079721016809344292),\n",
       " (3301, 0.022965289652347565),\n",
       " (3346, 0.033417552709579468),\n",
       " (3612, 0.031738050282001495),\n",
       " (3675, 0.0013687595492228866),\n",
       " (3797, -0.0030160208698362112),\n",
       " (3896, 0.047001883387565613),\n",
       " (4370, -0.0060195522382855415),\n",
       " (4423, 0.023742660880088806),\n",
       " (381, 0.019872937351465225),\n",
       " (156, 0.045848440378904343),\n",
       " (765, 0.026754206046462059),\n",
       " (1068, 0.02252434566617012),\n",
       " (2847, 0.0088808173313736916),\n",
       " (3171, -0.0079648755490779877),\n",
       " (3678, 0.029728060588240623),\n",
       " (4879, 0.005497002974152565),\n",
       " (550, 0.025607757270336151),\n",
       " (341, 0.015393410809338093),\n",
       " (447, 0.070380359888076782),\n",
       " (455, -0.0076120574958622456),\n",
       " (476, 0.06404837965965271),\n",
       " (492, 0.0022935930173844099),\n",
       " (493, 0.027799144387245178),\n",
       " (518, 0.021625228226184845),\n",
       " (549, 0.032652493566274643),\n",
       " (1108, 0.018779326230287552),\n",
       " (1132, 0.0037734901998192072),\n",
       " (1197, -0.013422172516584396),\n",
       " (1200, -0.016218816861510277),\n",
       " (1892, -0.0035239127464592457),\n",
       " (2702, 0.0022551030851900578),\n",
       " (2714, 0.012304722331464291),\n",
       " (2751, 0.0079176481813192368),\n",
       " (3160, 0.044340014457702637),\n",
       " (3722, -0.04540092870593071),\n",
       " (3944, 0.012932729907333851),\n",
       " (4666, -0.0041725859045982361),\n",
       " (4747, 0.030971521511673927),\n",
       " (4904, -0.028806498274207115)]"
      ]
     },
     "execution_count": 21,
     "metadata": {},
     "output_type": "execute_result"
    }
   ],
   "source": [
    "patient_features[394]"
   ]
  },
  {
   "cell_type": "code",
   "execution_count": null,
   "metadata": {
    "collapsed": true
   },
   "outputs": [],
   "source": []
  },
  {
   "cell_type": "markdown",
   "metadata": {},
   "source": [
    "### Write to svmlight file"
   ]
  },
  {
   "cell_type": "code",
   "execution_count": 22,
   "metadata": {
    "collapsed": true
   },
   "outputs": [],
   "source": [
    "if without_time:\n",
    "    filename1 = \"cleaned_data/features_svmlight_w2v.train\"\n",
    "    filename2 = \"cleaned_data/features_w2v.train\"\n",
    "else:\n",
    "    filename1 = \"cleaned_data/features_svmlight_w2v_wt.train\"\n",
    "    filename2 = \"cleaned_data/features_w2v_wt.train\"\n"
   ]
  },
  {
   "cell_type": "code",
   "execution_count": 23,
   "metadata": {
    "collapsed": true
   },
   "outputs": [],
   "source": [
    "fileWriter1 = open(filename1, 'wb')\n",
    "fileWriter2 = open(filename2, 'wb')\n",
    "\n",
    "for patient in sorted(patient_features):\n",
    "    fileWriter1.write('{:.0f}'.format(hfLabel[patient]))\n",
    "    fileWriter2.write('{:.0f} {:.0f}'.format(patient, hfLabel[patient]))\n",
    "    for record in sorted(patient_features[patient], key=itemgetter(0)):\n",
    "        fileWriter1.write(' {:.0f}:{:.6f}'.format(record[0], record[1]))\n",
    "        fileWriter2.write(' {:.0f}:{:.6f}'.format(record[0], record[1]))\n",
    "    fileWriter1.write(\" \\n\")\n",
    "    fileWriter2.write(\" \\n\")\n",
    "\n",
    "fileWriter2.close()\n",
    "fileWriter1.close()"
   ]
  },
  {
   "cell_type": "code",
   "execution_count": null,
   "metadata": {
    "collapsed": true
   },
   "outputs": [],
   "source": []
  }
 ],
 "metadata": {
  "kernelspec": {
   "display_name": "jupyter_tf_gym",
   "language": "python",
   "name": "jupyter_tf_gym"
  },
  "language_info": {
   "codemirror_mode": {
    "name": "ipython",
    "version": 3
   },
   "file_extension": ".py",
   "mimetype": "text/x-python",
   "name": "python",
   "nbconvert_exporter": "python",
   "pygments_lexer": "ipython3",
   "version": "3.6.2"
  }
 },
 "nbformat": 4,
 "nbformat_minor": 2
}
