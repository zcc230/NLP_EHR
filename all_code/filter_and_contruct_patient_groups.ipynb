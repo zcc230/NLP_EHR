{
 "cells": [
  {
   "cell_type": "code",
   "execution_count": 32,
   "metadata": {
    "collapsed": true
   },
   "outputs": [],
   "source": [
    "import pandas as pd\n",
    "import numpy as np\n",
    "import matplotlib.pyplot as plt\n",
    "%matplotlib inline"
   ]
  },
  {
   "cell_type": "markdown",
   "metadata": {},
   "source": [
    "# Patient filtering\n",
    "do the following:\n",
    "1. seperate case and control group based on their diagnosis code\n",
    "2. get the observation/prediction window for each patient \n",
    "3. filter by number of events within observation and predicaiton window (number from 30 -500)\n",
    "4. calculate demographic data for each group"
   ]
  },
  {
   "cell_type": "code",
   "execution_count": 76,
   "metadata": {
    "collapsed": true
   },
   "outputs": [],
   "source": [
    "with_time = False\n",
    "if with_time:\n",
    "    all_events = pd.read_csv('./cleaned_data/all_events_data_w_time.csv')\n",
    "else:\n",
    "    all_events = pd.read_csv('./cleaned_data/all_events_data.csv')"
   ]
  },
  {
   "cell_type": "code",
   "execution_count": 77,
   "metadata": {
    "collapsed": false
   },
   "outputs": [
    {
     "data": {
      "text/html": [
       "<div>\n",
       "<table border=\"1\" class=\"dataframe\">\n",
       "  <thead>\n",
       "    <tr style=\"text-align: right;\">\n",
       "      <th></th>\n",
       "      <th>Unnamed: 0</th>\n",
       "      <th>EVENTS</th>\n",
       "      <th>SUBJECT_ID</th>\n",
       "      <th>TIME</th>\n",
       "      <th>EVE_INDEX</th>\n",
       "    </tr>\n",
       "  </thead>\n",
       "  <tbody>\n",
       "    <tr>\n",
       "      <th>0</th>\n",
       "      <td>0</td>\n",
       "      <td>send 500mg vial</td>\n",
       "      <td>10</td>\n",
       "      <td>2103-06-28 00:00:00</td>\n",
       "      <td>4840</td>\n",
       "    </tr>\n",
       "    <tr>\n",
       "      <th>1</th>\n",
       "      <td>1</td>\n",
       "      <td>neo*iv*ampicillin sodium</td>\n",
       "      <td>10</td>\n",
       "      <td>2103-06-28 00:00:00</td>\n",
       "      <td>4081</td>\n",
       "    </tr>\n",
       "    <tr>\n",
       "      <th>2</th>\n",
       "      <td>2</td>\n",
       "      <td>###diagV30</td>\n",
       "      <td>10</td>\n",
       "      <td>2103-06-28 11:36:00</td>\n",
       "      <td>897</td>\n",
       "    </tr>\n",
       "    <tr>\n",
       "      <th>3</th>\n",
       "      <td>3</td>\n",
       "      <td>###diag765</td>\n",
       "      <td>10</td>\n",
       "      <td>2103-06-28 11:36:00</td>\n",
       "      <td>636</td>\n",
       "    </tr>\n",
       "    <tr>\n",
       "      <th>4</th>\n",
       "      <td>4</td>\n",
       "      <td>###diag765</td>\n",
       "      <td>10</td>\n",
       "      <td>2103-06-28 11:36:00</td>\n",
       "      <td>636</td>\n",
       "    </tr>\n",
       "  </tbody>\n",
       "</table>\n",
       "</div>"
      ],
      "text/plain": [
       "   Unnamed: 0                    EVENTS  SUBJECT_ID                 TIME  \\\n",
       "0           0           send 500mg vial          10  2103-06-28 00:00:00   \n",
       "1           1  neo*iv*ampicillin sodium          10  2103-06-28 00:00:00   \n",
       "2           2                ###diagV30          10  2103-06-28 11:36:00   \n",
       "3           3                ###diag765          10  2103-06-28 11:36:00   \n",
       "4           4                ###diag765          10  2103-06-28 11:36:00   \n",
       "\n",
       "   EVE_INDEX  \n",
       "0       4840  \n",
       "1       4081  \n",
       "2        897  \n",
       "3        636  \n",
       "4        636  "
      ]
     },
     "execution_count": 77,
     "metadata": {},
     "output_type": "execute_result"
    }
   ],
   "source": [
    "all_events.head()"
   ]
  },
  {
   "cell_type": "code",
   "execution_count": 78,
   "metadata": {
    "collapsed": false
   },
   "outputs": [
    {
     "data": {
      "text/plain": [
       "(46520,)"
      ]
     },
     "execution_count": 78,
     "metadata": {},
     "output_type": "execute_result"
    }
   ],
   "source": [
    "np.unique(all_events.SUBJECT_ID).shape"
   ]
  },
  {
   "cell_type": "code",
   "execution_count": 79,
   "metadata": {
    "collapsed": true
   },
   "outputs": [],
   "source": [
    "# event counts of all ids\n",
    "\n",
    "all_count = all_events.groupby('SUBJECT_ID')['EVE_INDEX'].agg({'count':lambda x: len(x)})"
   ]
  },
  {
   "cell_type": "code",
   "execution_count": 80,
   "metadata": {
    "collapsed": true
   },
   "outputs": [],
   "source": [
    "all_count.reset_index(inplace=True)"
   ]
  },
  {
   "cell_type": "code",
   "execution_count": 81,
   "metadata": {
    "collapsed": false
   },
   "outputs": [
    {
     "data": {
      "text/html": [
       "<div>\n",
       "<table border=\"1\" class=\"dataframe\">\n",
       "  <thead>\n",
       "    <tr style=\"text-align: right;\">\n",
       "      <th></th>\n",
       "      <th>SUBJECT_ID</th>\n",
       "      <th>count</th>\n",
       "    </tr>\n",
       "  </thead>\n",
       "  <tbody>\n",
       "    <tr>\n",
       "      <th>0</th>\n",
       "      <td>2</td>\n",
       "      <td>8</td>\n",
       "    </tr>\n",
       "    <tr>\n",
       "      <th>1</th>\n",
       "      <td>3</td>\n",
       "      <td>15</td>\n",
       "    </tr>\n",
       "    <tr>\n",
       "      <th>2</th>\n",
       "      <td>4</td>\n",
       "      <td>71</td>\n",
       "    </tr>\n",
       "    <tr>\n",
       "      <th>3</th>\n",
       "      <td>5</td>\n",
       "      <td>4</td>\n",
       "    </tr>\n",
       "    <tr>\n",
       "      <th>4</th>\n",
       "      <td>6</td>\n",
       "      <td>161</td>\n",
       "    </tr>\n",
       "  </tbody>\n",
       "</table>\n",
       "</div>"
      ],
      "text/plain": [
       "   SUBJECT_ID  count\n",
       "0           2      8\n",
       "1           3     15\n",
       "2           4     71\n",
       "3           5      4\n",
       "4           6    161"
      ]
     },
     "execution_count": 81,
     "metadata": {},
     "output_type": "execute_result"
    }
   ],
   "source": [
    "all_count.head()"
   ]
  },
  {
   "cell_type": "code",
   "execution_count": 82,
   "metadata": {
    "collapsed": false
   },
   "outputs": [
    {
     "data": {
      "text/html": [
       "<div>\n",
       "<table border=\"1\" class=\"dataframe\">\n",
       "  <thead>\n",
       "    <tr style=\"text-align: right;\">\n",
       "      <th></th>\n",
       "      <th>SUBJECT_ID</th>\n",
       "      <th>count</th>\n",
       "    </tr>\n",
       "  </thead>\n",
       "  <tbody>\n",
       "    <tr>\n",
       "      <th>count</th>\n",
       "      <td>46520.000000</td>\n",
       "      <td>46520.000000</td>\n",
       "    </tr>\n",
       "    <tr>\n",
       "      <th>mean</th>\n",
       "      <td>34425.772872</td>\n",
       "      <td>108.503676</td>\n",
       "    </tr>\n",
       "    <tr>\n",
       "      <th>std</th>\n",
       "      <td>28330.400343</td>\n",
       "      <td>133.825438</td>\n",
       "    </tr>\n",
       "    <tr>\n",
       "      <th>min</th>\n",
       "      <td>2.000000</td>\n",
       "      <td>1.000000</td>\n",
       "    </tr>\n",
       "    <tr>\n",
       "      <th>25%</th>\n",
       "      <td>12286.750000</td>\n",
       "      <td>29.000000</td>\n",
       "    </tr>\n",
       "    <tr>\n",
       "      <th>50%</th>\n",
       "      <td>24650.500000</td>\n",
       "      <td>75.000000</td>\n",
       "    </tr>\n",
       "    <tr>\n",
       "      <th>75%</th>\n",
       "      <td>55477.500000</td>\n",
       "      <td>136.000000</td>\n",
       "    </tr>\n",
       "    <tr>\n",
       "      <th>max</th>\n",
       "      <td>99999.000000</td>\n",
       "      <td>2802.000000</td>\n",
       "    </tr>\n",
       "  </tbody>\n",
       "</table>\n",
       "</div>"
      ],
      "text/plain": [
       "         SUBJECT_ID         count\n",
       "count  46520.000000  46520.000000\n",
       "mean   34425.772872    108.503676\n",
       "std    28330.400343    133.825438\n",
       "min        2.000000      1.000000\n",
       "25%    12286.750000     29.000000\n",
       "50%    24650.500000     75.000000\n",
       "75%    55477.500000    136.000000\n",
       "max    99999.000000   2802.000000"
      ]
     },
     "execution_count": 82,
     "metadata": {},
     "output_type": "execute_result"
    }
   ],
   "source": [
    "all_count.describe()"
   ]
  },
  {
   "cell_type": "code",
   "execution_count": 83,
   "metadata": {
    "collapsed": true
   },
   "outputs": [],
   "source": [
    "# Control / Case group\n",
    "case_id = pd.unique(all_events.ix[all_events['EVENTS'].str[:10] == '###diag428','SUBJECT_ID'])\n",
    "control_id =np.setdiff1d(np.unique(all_events['SUBJECT_ID'].values),case_id)"
   ]
  },
  {
   "cell_type": "code",
   "execution_count": 84,
   "metadata": {
    "collapsed": false
   },
   "outputs": [
    {
     "data": {
      "text/plain": [
       "(10154,)"
      ]
     },
     "execution_count": 84,
     "metadata": {},
     "output_type": "execute_result"
    }
   ],
   "source": [
    "case_id.shape"
   ]
  },
  {
   "cell_type": "code",
   "execution_count": 85,
   "metadata": {
    "collapsed": false
   },
   "outputs": [
    {
     "data": {
      "text/plain": [
       "(36366,)"
      ]
     },
     "execution_count": 85,
     "metadata": {},
     "output_type": "execute_result"
    }
   ],
   "source": [
    "control_id.shape"
   ]
  },
  {
   "cell_type": "markdown",
   "metadata": {},
   "source": [
    "### indentify case and control groups"
   ]
  },
  {
   "cell_type": "code",
   "execution_count": 86,
   "metadata": {
    "collapsed": true
   },
   "outputs": [],
   "source": [
    "control = all_events.ix[np.in1d(all_events['SUBJECT_ID'],control_id),:]\n",
    "case = all_events.ix[np.in1d(all_events['SUBJECT_ID'],case_id),:]"
   ]
  },
  {
   "cell_type": "code",
   "execution_count": 87,
   "metadata": {
    "collapsed": false
   },
   "outputs": [
    {
     "data": {
      "text/html": [
       "<div>\n",
       "<table border=\"1\" class=\"dataframe\">\n",
       "  <thead>\n",
       "    <tr style=\"text-align: right;\">\n",
       "      <th></th>\n",
       "      <th>Unnamed: 0</th>\n",
       "      <th>EVENTS</th>\n",
       "      <th>SUBJECT_ID</th>\n",
       "      <th>TIME</th>\n",
       "      <th>EVE_INDEX</th>\n",
       "    </tr>\n",
       "  </thead>\n",
       "  <tbody>\n",
       "    <tr>\n",
       "      <th>0</th>\n",
       "      <td>0</td>\n",
       "      <td>send 500mg vial</td>\n",
       "      <td>10</td>\n",
       "      <td>2103-06-28 00:00:00</td>\n",
       "      <td>4840</td>\n",
       "    </tr>\n",
       "    <tr>\n",
       "      <th>1</th>\n",
       "      <td>1</td>\n",
       "      <td>neo*iv*ampicillin sodium</td>\n",
       "      <td>10</td>\n",
       "      <td>2103-06-28 00:00:00</td>\n",
       "      <td>4081</td>\n",
       "    </tr>\n",
       "    <tr>\n",
       "      <th>2</th>\n",
       "      <td>2</td>\n",
       "      <td>###diagV30</td>\n",
       "      <td>10</td>\n",
       "      <td>2103-06-28 11:36:00</td>\n",
       "      <td>897</td>\n",
       "    </tr>\n",
       "    <tr>\n",
       "      <th>3</th>\n",
       "      <td>3</td>\n",
       "      <td>###diag765</td>\n",
       "      <td>10</td>\n",
       "      <td>2103-06-28 11:36:00</td>\n",
       "      <td>636</td>\n",
       "    </tr>\n",
       "    <tr>\n",
       "      <th>4</th>\n",
       "      <td>4</td>\n",
       "      <td>###diag765</td>\n",
       "      <td>10</td>\n",
       "      <td>2103-06-28 11:36:00</td>\n",
       "      <td>636</td>\n",
       "    </tr>\n",
       "  </tbody>\n",
       "</table>\n",
       "</div>"
      ],
      "text/plain": [
       "   Unnamed: 0                    EVENTS  SUBJECT_ID                 TIME  \\\n",
       "0           0           send 500mg vial          10  2103-06-28 00:00:00   \n",
       "1           1  neo*iv*ampicillin sodium          10  2103-06-28 00:00:00   \n",
       "2           2                ###diagV30          10  2103-06-28 11:36:00   \n",
       "3           3                ###diag765          10  2103-06-28 11:36:00   \n",
       "4           4                ###diag765          10  2103-06-28 11:36:00   \n",
       "\n",
       "   EVE_INDEX  \n",
       "0       4840  \n",
       "1       4081  \n",
       "2        897  \n",
       "3        636  \n",
       "4        636  "
      ]
     },
     "execution_count": 87,
     "metadata": {},
     "output_type": "execute_result"
    }
   ],
   "source": [
    "control.head()"
   ]
  },
  {
   "cell_type": "code",
   "execution_count": 88,
   "metadata": {
    "collapsed": false
   },
   "outputs": [
    {
     "data": {
      "text/plain": [
       "(36366,)"
      ]
     },
     "execution_count": 88,
     "metadata": {},
     "output_type": "execute_result"
    }
   ],
   "source": [
    "np.unique(control.SUBJECT_ID).shape"
   ]
  },
  {
   "cell_type": "code",
   "execution_count": 89,
   "metadata": {
    "collapsed": false
   },
   "outputs": [
    {
     "data": {
      "text/plain": [
       "(10154,)"
      ]
     },
     "execution_count": 89,
     "metadata": {},
     "output_type": "execute_result"
    }
   ],
   "source": [
    "np.unique(case.SUBJECT_ID).shape"
   ]
  },
  {
   "cell_type": "markdown",
   "metadata": {},
   "source": [
    "### filter based on observation window for control group"
   ]
  },
  {
   "cell_type": "code",
   "execution_count": 90,
   "metadata": {
    "collapsed": true
   },
   "outputs": [],
   "source": [
    "observation_window = 2000"
   ]
  },
  {
   "cell_type": "code",
   "execution_count": 91,
   "metadata": {
    "collapsed": true
   },
   "outputs": [],
   "source": [
    "control_index_date = control.groupby(['SUBJECT_ID'], \\\n",
    "                    as_index=False)['TIME'].agg({'INDEX_DATE': lambda x: pd.to_datetime(x).max()})"
   ]
  },
  {
   "cell_type": "code",
   "execution_count": 92,
   "metadata": {
    "collapsed": true
   },
   "outputs": [],
   "source": [
    "control_filter = pd.merge(control,control_index_date,how='left',on = ['SUBJECT_ID'])"
   ]
  },
  {
   "cell_type": "code",
   "execution_count": 93,
   "metadata": {
    "collapsed": false
   },
   "outputs": [
    {
     "data": {
      "text/html": [
       "<div>\n",
       "<table border=\"1\" class=\"dataframe\">\n",
       "  <thead>\n",
       "    <tr style=\"text-align: right;\">\n",
       "      <th></th>\n",
       "      <th>Unnamed: 0</th>\n",
       "      <th>EVENTS</th>\n",
       "      <th>SUBJECT_ID</th>\n",
       "      <th>TIME</th>\n",
       "      <th>EVE_INDEX</th>\n",
       "      <th>INDEX_DATE</th>\n",
       "    </tr>\n",
       "  </thead>\n",
       "  <tbody>\n",
       "    <tr>\n",
       "      <th>0</th>\n",
       "      <td>0</td>\n",
       "      <td>send 500mg vial</td>\n",
       "      <td>10</td>\n",
       "      <td>2103-06-28 00:00:00</td>\n",
       "      <td>4840</td>\n",
       "      <td>2103-07-06</td>\n",
       "    </tr>\n",
       "    <tr>\n",
       "      <th>1</th>\n",
       "      <td>1</td>\n",
       "      <td>neo*iv*ampicillin sodium</td>\n",
       "      <td>10</td>\n",
       "      <td>2103-06-28 00:00:00</td>\n",
       "      <td>4081</td>\n",
       "      <td>2103-07-06</td>\n",
       "    </tr>\n",
       "    <tr>\n",
       "      <th>2</th>\n",
       "      <td>2</td>\n",
       "      <td>###diagV30</td>\n",
       "      <td>10</td>\n",
       "      <td>2103-06-28 11:36:00</td>\n",
       "      <td>897</td>\n",
       "      <td>2103-07-06</td>\n",
       "    </tr>\n",
       "    <tr>\n",
       "      <th>3</th>\n",
       "      <td>3</td>\n",
       "      <td>###diag765</td>\n",
       "      <td>10</td>\n",
       "      <td>2103-06-28 11:36:00</td>\n",
       "      <td>636</td>\n",
       "      <td>2103-07-06</td>\n",
       "    </tr>\n",
       "    <tr>\n",
       "      <th>4</th>\n",
       "      <td>4</td>\n",
       "      <td>###diag765</td>\n",
       "      <td>10</td>\n",
       "      <td>2103-06-28 11:36:00</td>\n",
       "      <td>636</td>\n",
       "      <td>2103-07-06</td>\n",
       "    </tr>\n",
       "  </tbody>\n",
       "</table>\n",
       "</div>"
      ],
      "text/plain": [
       "   Unnamed: 0                    EVENTS  SUBJECT_ID                 TIME  \\\n",
       "0           0           send 500mg vial          10  2103-06-28 00:00:00   \n",
       "1           1  neo*iv*ampicillin sodium          10  2103-06-28 00:00:00   \n",
       "2           2                ###diagV30          10  2103-06-28 11:36:00   \n",
       "3           3                ###diag765          10  2103-06-28 11:36:00   \n",
       "4           4                ###diag765          10  2103-06-28 11:36:00   \n",
       "\n",
       "   EVE_INDEX INDEX_DATE  \n",
       "0       4840 2103-07-06  \n",
       "1       4081 2103-07-06  \n",
       "2        897 2103-07-06  \n",
       "3        636 2103-07-06  \n",
       "4        636 2103-07-06  "
      ]
     },
     "execution_count": 93,
     "metadata": {},
     "output_type": "execute_result"
    }
   ],
   "source": [
    "#observation window is set to be 2000 days\n",
    "choice1 = pd.to_datetime(control_filter['TIME'])>= pd.to_datetime(control_filter['INDEX_DATE']) - pd.DateOffset(observation_window)\n",
    "choice2 = pd.to_datetime(control_filter['TIME']) <= pd.to_datetime(control_filter['INDEX_DATE'])\n",
    "control_filter = control_filter[choice1 & choice2]\n",
    "control_filter.head()    "
   ]
  },
  {
   "cell_type": "code",
   "execution_count": 94,
   "metadata": {
    "collapsed": false
   },
   "outputs": [
    {
     "name": "stdout",
     "output_type": "stream",
     "text": [
      "(array([34661,  1414,   212,    44,    18,    12,     4,     0,     0,     1]), array([  1.00000000e+00,   2.71400000e+02,   5.41800000e+02,\n",
      "         8.12200000e+02,   1.08260000e+03,   1.35300000e+03,\n",
      "         1.62340000e+03,   1.89380000e+03,   2.16420000e+03,\n",
      "         2.43460000e+03,   2.70500000e+03]))\n",
      "87.296045757\n",
      "61.0\n",
      "105.569474006\n"
     ]
    },
    {
     "data": {
      "image/png": "[encoded data removed]",
      "text/plain": [
       "<matplotlib.figure.Figure at 0x7fa0b0554150>"
      ]
     },
     "metadata": {},
     "output_type": "display_data"
    }
   ],
   "source": [
    "# control count\n",
    "count_control = control_filter.groupby('SUBJECT_ID').apply(lambda x: x.EVE_INDEX.size)\n",
    "count_control.hist(bins=100)\n",
    "print(np.histogram(count_control))\n",
    "print(np.mean(count_control)); print(np.median(count_control)); print(np.std(count_control))"
   ]
  },
  {
   "cell_type": "code",
   "execution_count": 95,
   "metadata": {
    "collapsed": true
   },
   "outputs": [],
   "source": [
    "# filter out control IDs with count >500 & count<30 ??\n",
    "control_filter =pd.merge(control_filter, all_count,on='SUBJECT_ID',how='left')\n",
    "control_filter_out = control_filter.ix[((control_filter['count']>30) & (control_filter['count']<500)),:]"
   ]
  },
  {
   "cell_type": "code",
   "execution_count": 96,
   "metadata": {
    "collapsed": false
   },
   "outputs": [
    {
     "data": {
      "text/plain": [
       "(24751,)"
      ]
     },
     "execution_count": 96,
     "metadata": {},
     "output_type": "execute_result"
    }
   ],
   "source": [
    "np.unique(control_filter_out.SUBJECT_ID).shape"
   ]
  },
  {
   "cell_type": "code",
   "execution_count": 97,
   "metadata": {
    "collapsed": false
   },
   "outputs": [
    {
     "data": {
      "text/html": [
       "<div>\n",
       "<table border=\"1\" class=\"dataframe\">\n",
       "  <thead>\n",
       "    <tr style=\"text-align: right;\">\n",
       "      <th></th>\n",
       "      <th>Unnamed: 0</th>\n",
       "      <th>EVENTS</th>\n",
       "      <th>SUBJECT_ID</th>\n",
       "      <th>TIME</th>\n",
       "      <th>EVE_INDEX</th>\n",
       "      <th>INDEX_DATE</th>\n",
       "      <th>count</th>\n",
       "    </tr>\n",
       "  </thead>\n",
       "  <tbody>\n",
       "    <tr>\n",
       "      <th>28</th>\n",
       "      <td>293</td>\n",
       "      <td>###diag285</td>\n",
       "      <td>10000</td>\n",
       "      <td>2186-08-10 21:57:00</td>\n",
       "      <td>215</td>\n",
       "      <td>2186-08-30</td>\n",
       "      <td>128</td>\n",
       "    </tr>\n",
       "    <tr>\n",
       "      <th>29</th>\n",
       "      <td>294</td>\n",
       "      <td>###diag303</td>\n",
       "      <td>10000</td>\n",
       "      <td>2186-08-10 21:57:00</td>\n",
       "      <td>233</td>\n",
       "      <td>2186-08-30</td>\n",
       "      <td>128</td>\n",
       "    </tr>\n",
       "    <tr>\n",
       "      <th>30</th>\n",
       "      <td>295</td>\n",
       "      <td>###diag276</td>\n",
       "      <td>10000</td>\n",
       "      <td>2186-08-10 21:57:00</td>\n",
       "      <td>206</td>\n",
       "      <td>2186-08-30</td>\n",
       "      <td>128</td>\n",
       "    </tr>\n",
       "    <tr>\n",
       "      <th>31</th>\n",
       "      <td>296</td>\n",
       "      <td>###proc389</td>\n",
       "      <td>10000</td>\n",
       "      <td>2186-08-10 21:57:00</td>\n",
       "      <td>1168</td>\n",
       "      <td>2186-08-30</td>\n",
       "      <td>128</td>\n",
       "    </tr>\n",
       "    <tr>\n",
       "      <th>32</th>\n",
       "      <td>297</td>\n",
       "      <td>###proc389</td>\n",
       "      <td>10000</td>\n",
       "      <td>2186-08-10 21:57:00</td>\n",
       "      <td>1168</td>\n",
       "      <td>2186-08-30</td>\n",
       "      <td>128</td>\n",
       "    </tr>\n",
       "  </tbody>\n",
       "</table>\n",
       "</div>"
      ],
      "text/plain": [
       "    Unnamed: 0      EVENTS  SUBJECT_ID                 TIME  EVE_INDEX  \\\n",
       "28         293  ###diag285       10000  2186-08-10 21:57:00        215   \n",
       "29         294  ###diag303       10000  2186-08-10 21:57:00        233   \n",
       "30         295  ###diag276       10000  2186-08-10 21:57:00        206   \n",
       "31         296  ###proc389       10000  2186-08-10 21:57:00       1168   \n",
       "32         297  ###proc389       10000  2186-08-10 21:57:00       1168   \n",
       "\n",
       "   INDEX_DATE  count  \n",
       "28 2186-08-30    128  \n",
       "29 2186-08-30    128  \n",
       "30 2186-08-30    128  \n",
       "31 2186-08-30    128  \n",
       "32 2186-08-30    128  "
      ]
     },
     "execution_count": 97,
     "metadata": {},
     "output_type": "execute_result"
    }
   ],
   "source": [
    "control_filter_out.head()"
   ]
  },
  {
   "cell_type": "markdown",
   "metadata": {},
   "source": [
    "### filter based on observation window and prediction window for case group"
   ]
  },
  {
   "cell_type": "code",
   "execution_count": 98,
   "metadata": {
    "collapsed": true
   },
   "outputs": [],
   "source": [
    "prediction_window = 90\n",
    "\n",
    "case_index_date = case.ix[case['EVENTS'].str[:10]=='###diag428',:].groupby(['SUBJECT_ID'], \\\n",
    "                        as_index=False)['TIME'].agg({'INDEX_DATE': \\\n",
    "                        lambda x: pd.to_datetime(x).min()- pd.Timedelta(days = prediction_window)})"
   ]
  },
  {
   "cell_type": "code",
   "execution_count": 99,
   "metadata": {
    "collapsed": false
   },
   "outputs": [
    {
     "data": {
      "text/html": [
       "<div>\n",
       "<table border=\"1\" class=\"dataframe\">\n",
       "  <thead>\n",
       "    <tr style=\"text-align: right;\">\n",
       "      <th></th>\n",
       "      <th>SUBJECT_ID</th>\n",
       "      <th>INDEX_DATE</th>\n",
       "    </tr>\n",
       "  </thead>\n",
       "  <tbody>\n",
       "    <tr>\n",
       "      <th>0</th>\n",
       "      <td>3</td>\n",
       "      <td>2101-07-22 19:08:00</td>\n",
       "    </tr>\n",
       "    <tr>\n",
       "      <th>1</th>\n",
       "      <td>9</td>\n",
       "      <td>2149-08-11 13:06:00</td>\n",
       "    </tr>\n",
       "    <tr>\n",
       "      <th>2</th>\n",
       "      <td>21</td>\n",
       "      <td>2134-06-13 12:17:00</td>\n",
       "    </tr>\n",
       "    <tr>\n",
       "      <th>3</th>\n",
       "      <td>26</td>\n",
       "      <td>2126-02-05 15:16:00</td>\n",
       "    </tr>\n",
       "    <tr>\n",
       "      <th>4</th>\n",
       "      <td>30</td>\n",
       "      <td>2172-07-16 14:17:00</td>\n",
       "    </tr>\n",
       "  </tbody>\n",
       "</table>\n",
       "</div>"
      ],
      "text/plain": [
       "   SUBJECT_ID          INDEX_DATE\n",
       "0           3 2101-07-22 19:08:00\n",
       "1           9 2149-08-11 13:06:00\n",
       "2          21 2134-06-13 12:17:00\n",
       "3          26 2126-02-05 15:16:00\n",
       "4          30 2172-07-16 14:17:00"
      ]
     },
     "execution_count": 99,
     "metadata": {},
     "output_type": "execute_result"
    }
   ],
   "source": [
    "case_index_date.head()"
   ]
  },
  {
   "cell_type": "code",
   "execution_count": 100,
   "metadata": {
    "collapsed": true
   },
   "outputs": [],
   "source": [
    "case_filter = pd.merge(case,case_index_date,how='left',on = ['SUBJECT_ID'])"
   ]
  },
  {
   "cell_type": "code",
   "execution_count": 101,
   "metadata": {
    "collapsed": false
   },
   "outputs": [
    {
     "data": {
      "text/html": [
       "<div>\n",
       "<table border=\"1\" class=\"dataframe\">\n",
       "  <thead>\n",
       "    <tr style=\"text-align: right;\">\n",
       "      <th></th>\n",
       "      <th>Unnamed: 0</th>\n",
       "      <th>EVENTS</th>\n",
       "      <th>SUBJECT_ID</th>\n",
       "      <th>TIME</th>\n",
       "      <th>EVE_INDEX</th>\n",
       "      <th>INDEX_DATE</th>\n",
       "    </tr>\n",
       "  </thead>\n",
       "  <tbody>\n",
       "    <tr>\n",
       "      <th>0</th>\n",
       "      <td>28</td>\n",
       "      <td>###proc960</td>\n",
       "      <td>1000</td>\n",
       "      <td>2144-01-19 20:15:00</td>\n",
       "      <td>1581</td>\n",
       "      <td>2143-10-21 20:15:00</td>\n",
       "    </tr>\n",
       "    <tr>\n",
       "      <th>1</th>\n",
       "      <td>29</td>\n",
       "      <td>###diag285</td>\n",
       "      <td>1000</td>\n",
       "      <td>2144-01-19 20:15:00</td>\n",
       "      <td>215</td>\n",
       "      <td>2143-10-21 20:15:00</td>\n",
       "    </tr>\n",
       "    <tr>\n",
       "      <th>2</th>\n",
       "      <td>30</td>\n",
       "      <td>###diag518</td>\n",
       "      <td>1000</td>\n",
       "      <td>2144-01-19 20:15:00</td>\n",
       "      <td>422</td>\n",
       "      <td>2143-10-21 20:15:00</td>\n",
       "    </tr>\n",
       "    <tr>\n",
       "      <th>3</th>\n",
       "      <td>31</td>\n",
       "      <td>###diag428</td>\n",
       "      <td>1000</td>\n",
       "      <td>2144-01-19 20:15:00</td>\n",
       "      <td>347</td>\n",
       "      <td>2143-10-21 20:15:00</td>\n",
       "    </tr>\n",
       "    <tr>\n",
       "      <th>4</th>\n",
       "      <td>32</td>\n",
       "      <td>###proc389</td>\n",
       "      <td>1000</td>\n",
       "      <td>2144-01-19 20:15:00</td>\n",
       "      <td>1168</td>\n",
       "      <td>2143-10-21 20:15:00</td>\n",
       "    </tr>\n",
       "  </tbody>\n",
       "</table>\n",
       "</div>"
      ],
      "text/plain": [
       "   Unnamed: 0      EVENTS  SUBJECT_ID                 TIME  EVE_INDEX  \\\n",
       "0          28  ###proc960        1000  2144-01-19 20:15:00       1581   \n",
       "1          29  ###diag285        1000  2144-01-19 20:15:00        215   \n",
       "2          30  ###diag518        1000  2144-01-19 20:15:00        422   \n",
       "3          31  ###diag428        1000  2144-01-19 20:15:00        347   \n",
       "4          32  ###proc389        1000  2144-01-19 20:15:00       1168   \n",
       "\n",
       "           INDEX_DATE  \n",
       "0 2143-10-21 20:15:00  \n",
       "1 2143-10-21 20:15:00  \n",
       "2 2143-10-21 20:15:00  \n",
       "3 2143-10-21 20:15:00  \n",
       "4 2143-10-21 20:15:00  "
      ]
     },
     "execution_count": 101,
     "metadata": {},
     "output_type": "execute_result"
    }
   ],
   "source": [
    "case_filter.head()"
   ]
  },
  {
   "cell_type": "code",
   "execution_count": 102,
   "metadata": {
    "collapsed": false
   },
   "outputs": [
    {
     "data": {
      "text/html": [
       "<div>\n",
       "<table border=\"1\" class=\"dataframe\">\n",
       "  <thead>\n",
       "    <tr style=\"text-align: right;\">\n",
       "      <th></th>\n",
       "      <th>Unnamed: 0</th>\n",
       "      <th>EVENTS</th>\n",
       "      <th>SUBJECT_ID</th>\n",
       "      <th>TIME</th>\n",
       "      <th>EVE_INDEX</th>\n",
       "      <th>INDEX_DATE</th>\n",
       "    </tr>\n",
       "  </thead>\n",
       "  <tbody>\n",
       "    <tr>\n",
       "      <th>5821</th>\n",
       "      <td>14568</td>\n",
       "      <td>###proc361</td>\n",
       "      <td>10168</td>\n",
       "      <td>2110-12-02 14:57:00</td>\n",
       "      <td>1146</td>\n",
       "      <td>2110-12-06 20:50:00</td>\n",
       "    </tr>\n",
       "    <tr>\n",
       "      <th>5822</th>\n",
       "      <td>14569</td>\n",
       "      <td>###proc361</td>\n",
       "      <td>10168</td>\n",
       "      <td>2110-12-02 14:57:00</td>\n",
       "      <td>1146</td>\n",
       "      <td>2110-12-06 20:50:00</td>\n",
       "    </tr>\n",
       "    <tr>\n",
       "      <th>5823</th>\n",
       "      <td>14570</td>\n",
       "      <td>###diag424</td>\n",
       "      <td>10168</td>\n",
       "      <td>2110-12-02 14:57:00</td>\n",
       "      <td>343</td>\n",
       "      <td>2110-12-06 20:50:00</td>\n",
       "    </tr>\n",
       "    <tr>\n",
       "      <th>5824</th>\n",
       "      <td>14571</td>\n",
       "      <td>###diag414</td>\n",
       "      <td>10168</td>\n",
       "      <td>2110-12-02 14:57:00</td>\n",
       "      <td>335</td>\n",
       "      <td>2110-12-06 20:50:00</td>\n",
       "    </tr>\n",
       "    <tr>\n",
       "      <th>5825</th>\n",
       "      <td>14572</td>\n",
       "      <td>###diag427</td>\n",
       "      <td>10168</td>\n",
       "      <td>2110-12-02 14:57:00</td>\n",
       "      <td>346</td>\n",
       "      <td>2110-12-06 20:50:00</td>\n",
       "    </tr>\n",
       "  </tbody>\n",
       "</table>\n",
       "</div>"
      ],
      "text/plain": [
       "      Unnamed: 0      EVENTS  SUBJECT_ID                 TIME  EVE_INDEX  \\\n",
       "5821       14568  ###proc361       10168  2110-12-02 14:57:00       1146   \n",
       "5822       14569  ###proc361       10168  2110-12-02 14:57:00       1146   \n",
       "5823       14570  ###diag424       10168  2110-12-02 14:57:00        343   \n",
       "5824       14571  ###diag414       10168  2110-12-02 14:57:00        335   \n",
       "5825       14572  ###diag427       10168  2110-12-02 14:57:00        346   \n",
       "\n",
       "              INDEX_DATE  \n",
       "5821 2110-12-06 20:50:00  \n",
       "5822 2110-12-06 20:50:00  \n",
       "5823 2110-12-06 20:50:00  \n",
       "5824 2110-12-06 20:50:00  \n",
       "5825 2110-12-06 20:50:00  "
      ]
     },
     "execution_count": 102,
     "metadata": {},
     "output_type": "execute_result"
    }
   ],
   "source": [
    "choice1 = pd.to_datetime(case_filter['TIME'])>= pd.to_datetime(case_filter['INDEX_DATE']) - pd.DateOffset(2000)\n",
    "choice2 = pd.to_datetime(case_filter['TIME']) <= pd.to_datetime(case_filter['INDEX_DATE'])\n",
    "case_filter = case_filter[choice1 & choice2]\n",
    "case_filter.head()    "
   ]
  },
  {
   "cell_type": "code",
   "execution_count": 103,
   "metadata": {
    "collapsed": false
   },
   "outputs": [
    {
     "name": "stdout",
     "output_type": "stream",
     "text": [
      "(array([735, 100,  22,   6,   2,   0,   1,   0,   0,   1]), array([  1.00000000e+00,   2.01500000e+02,   4.02000000e+02,\n",
      "         6.02500000e+02,   8.03000000e+02,   1.00350000e+03,\n",
      "         1.20400000e+03,   1.40450000e+03,   1.60500000e+03,\n",
      "         1.80550000e+03,   2.00600000e+03]))\n",
      "117.046136101\n",
      "81.0\n",
      "138.917765268\n"
     ]
    },
    {
     "data": {
      "text/plain": [
       "count     867.000000\n",
       "mean      117.046136\n",
       "std       138.997949\n",
       "min         1.000000\n",
       "25%        39.000000\n",
       "50%        81.000000\n",
       "75%       149.000000\n",
       "max      2006.000000\n",
       "dtype: float64"
      ]
     },
     "execution_count": 103,
     "metadata": {},
     "output_type": "execute_result"
    },
    {
     "data": {
      "image/png": "[encoded data removed]",
      "text/plain": [
       "<matplotlib.figure.Figure at 0x7fa0b0581e10>"
      ]
     },
     "metadata": {},
     "output_type": "display_data"
    }
   ],
   "source": [
    "# case count\n",
    "count_case = case_filter.groupby('SUBJECT_ID').apply(lambda x: x.EVE_INDEX.size)\n",
    "count_case.hist(bins=100)\n",
    "print(np.histogram(count_case))\n",
    "print(np.mean(count_case)); print(np.median(count_case)); print(np.std(count_case))\n",
    "\n",
    "count_case.describe()"
   ]
  },
  {
   "cell_type": "code",
   "execution_count": 104,
   "metadata": {
    "collapsed": true
   },
   "outputs": [],
   "source": [
    "# filter out <10 & > 1000???\n",
    "\n",
    "case_filter =pd.merge(case_filter, all_count,on='SUBJECT_ID',how='left')\n",
    "case_filter_out = case_filter.ix[((case_filter['count']>30) & (case_filter['count']<500)),:]"
   ]
  },
  {
   "cell_type": "code",
   "execution_count": 105,
   "metadata": {
    "collapsed": false
   },
   "outputs": [
    {
     "data": {
      "text/html": [
       "<div>\n",
       "<table border=\"1\" class=\"dataframe\">\n",
       "  <thead>\n",
       "    <tr style=\"text-align: right;\">\n",
       "      <th></th>\n",
       "      <th>Unnamed: 0</th>\n",
       "      <th>EVENTS</th>\n",
       "      <th>SUBJECT_ID</th>\n",
       "      <th>TIME</th>\n",
       "      <th>EVE_INDEX</th>\n",
       "      <th>INDEX_DATE</th>\n",
       "      <th>count</th>\n",
       "    </tr>\n",
       "  </thead>\n",
       "  <tbody>\n",
       "    <tr>\n",
       "      <th>0</th>\n",
       "      <td>14568</td>\n",
       "      <td>###proc361</td>\n",
       "      <td>10168</td>\n",
       "      <td>2110-12-02 14:57:00</td>\n",
       "      <td>1146</td>\n",
       "      <td>2110-12-06 20:50:00</td>\n",
       "      <td>48</td>\n",
       "    </tr>\n",
       "    <tr>\n",
       "      <th>1</th>\n",
       "      <td>14569</td>\n",
       "      <td>###proc361</td>\n",
       "      <td>10168</td>\n",
       "      <td>2110-12-02 14:57:00</td>\n",
       "      <td>1146</td>\n",
       "      <td>2110-12-06 20:50:00</td>\n",
       "      <td>48</td>\n",
       "    </tr>\n",
       "    <tr>\n",
       "      <th>2</th>\n",
       "      <td>14570</td>\n",
       "      <td>###diag424</td>\n",
       "      <td>10168</td>\n",
       "      <td>2110-12-02 14:57:00</td>\n",
       "      <td>343</td>\n",
       "      <td>2110-12-06 20:50:00</td>\n",
       "      <td>48</td>\n",
       "    </tr>\n",
       "    <tr>\n",
       "      <th>3</th>\n",
       "      <td>14571</td>\n",
       "      <td>###diag414</td>\n",
       "      <td>10168</td>\n",
       "      <td>2110-12-02 14:57:00</td>\n",
       "      <td>335</td>\n",
       "      <td>2110-12-06 20:50:00</td>\n",
       "      <td>48</td>\n",
       "    </tr>\n",
       "    <tr>\n",
       "      <th>4</th>\n",
       "      <td>14572</td>\n",
       "      <td>###diag427</td>\n",
       "      <td>10168</td>\n",
       "      <td>2110-12-02 14:57:00</td>\n",
       "      <td>346</td>\n",
       "      <td>2110-12-06 20:50:00</td>\n",
       "      <td>48</td>\n",
       "    </tr>\n",
       "  </tbody>\n",
       "</table>\n",
       "</div>"
      ],
      "text/plain": [
       "   Unnamed: 0      EVENTS  SUBJECT_ID                 TIME  EVE_INDEX  \\\n",
       "0       14568  ###proc361       10168  2110-12-02 14:57:00       1146   \n",
       "1       14569  ###proc361       10168  2110-12-02 14:57:00       1146   \n",
       "2       14570  ###diag424       10168  2110-12-02 14:57:00        343   \n",
       "3       14571  ###diag414       10168  2110-12-02 14:57:00        335   \n",
       "4       14572  ###diag427       10168  2110-12-02 14:57:00        346   \n",
       "\n",
       "           INDEX_DATE  count  \n",
       "0 2110-12-06 20:50:00     48  \n",
       "1 2110-12-06 20:50:00     48  \n",
       "2 2110-12-06 20:50:00     48  \n",
       "3 2110-12-06 20:50:00     48  \n",
       "4 2110-12-06 20:50:00     48  "
      ]
     },
     "execution_count": 105,
     "metadata": {},
     "output_type": "execute_result"
    }
   ],
   "source": [
    "case_filter_out.head()"
   ]
  },
  {
   "cell_type": "code",
   "execution_count": 106,
   "metadata": {
    "collapsed": false
   },
   "outputs": [
    {
     "data": {
      "text/plain": [
       "682"
      ]
     },
     "execution_count": 106,
     "metadata": {},
     "output_type": "execute_result"
    }
   ],
   "source": [
    "np.unique(case_filter_out.SUBJECT_ID).size"
   ]
  },
  {
   "cell_type": "code",
   "execution_count": 107,
   "metadata": {
    "collapsed": false
   },
   "outputs": [
    {
     "data": {
      "text/plain": [
       "(58179, 7)"
      ]
     },
     "execution_count": 107,
     "metadata": {},
     "output_type": "execute_result"
    }
   ],
   "source": [
    "case_filter_out.shape"
   ]
  },
  {
   "cell_type": "markdown",
   "metadata": {},
   "source": [
    "## final output with filtered patients"
   ]
  },
  {
   "cell_type": "code",
   "execution_count": 108,
   "metadata": {
    "collapsed": true
   },
   "outputs": [],
   "source": [
    "# get sample from control\n",
    "np.random.seed(6250)\n",
    "sample_ids = np.random.choice(np.unique(control_filter_out.SUBJECT_ID),2*np.unique(case_filter_out.SUBJECT_ID).size,replace=False)"
   ]
  },
  {
   "cell_type": "code",
   "execution_count": 109,
   "metadata": {
    "collapsed": true
   },
   "outputs": [],
   "source": [
    "control_out = control_filter_out.ix[np.in1d(control_filter_out['SUBJECT_ID'],sample_ids),:]"
   ]
  },
  {
   "cell_type": "code",
   "execution_count": 110,
   "metadata": {
    "collapsed": false
   },
   "outputs": [
    {
     "data": {
      "text/plain": [
       "1364"
      ]
     },
     "execution_count": 110,
     "metadata": {},
     "output_type": "execute_result"
    }
   ],
   "source": [
    "np.unique(control_out.SUBJECT_ID).size"
   ]
  },
  {
   "cell_type": "code",
   "execution_count": 111,
   "metadata": {
    "collapsed": true
   },
   "outputs": [],
   "source": [
    "control_out.reset_index(inplace=True)"
   ]
  },
  {
   "cell_type": "code",
   "execution_count": 112,
   "metadata": {
    "collapsed": true
   },
   "outputs": [],
   "source": [
    "if with_time:\n",
    "    control_out.ix[:,['SUBJECT_ID','TIME','EVE_INDEX']].to_csv('./cleaned_data/control_w_time.csv')\n",
    "    case_filter_out.ix[:,['SUBJECT_ID','TIME','EVE_INDEX']].to_csv('./cleaned_data/case_w_time.csv')\n",
    "else:\n",
    "    control_out.ix[:,['SUBJECT_ID','TIME','EVE_INDEX']].to_csv('./cleaned_data/control.csv')\n",
    "    case_filter_out.ix[:,['SUBJECT_ID','TIME','EVE_INDEX']].to_csv('./cleaned_data/case.csv')"
   ]
  },
  {
   "cell_type": "markdown",
   "metadata": {
    "collapsed": true
   },
   "source": [
    "### calculate demographic information for control and case group\n",
    "\n",
    "age, sex, and ethicities (in one-hot encoding)"
   ]
  },
  {
   "cell_type": "code",
   "execution_count": 113,
   "metadata": {
    "collapsed": true
   },
   "outputs": [],
   "source": [
    "demographic = pd.read_csv(\"./cleaned_data/demographic.csv\",index_col = 0)"
   ]
  },
  {
   "cell_type": "code",
   "execution_count": 114,
   "metadata": {
    "collapsed": true
   },
   "outputs": [],
   "source": [
    "def get_demographic(data):\n",
    "    demo = data.merge(demographic, how = \"left\", on = \"SUBJECT_ID\")\n",
    "    demo = demo.ix[:, [\"SUBJECT_ID\", \"INDEX_DATE\", \"GENDER\", \"DOB\", \"ETHNICITY\"]].drop_duplicates()\n",
    "    #calculate the age for the patients\n",
    "    age = demo.INDEX_DATE - pd.to_datetime(demo.DOB)\n",
    "    demo[\"AGE\"] = age.apply(lambda x: x.days/365.25 +300 if x.days <0 else x.days/365.25)\n",
    "    demo = demo.drop([\"DOB\", \"INDEX_DATE\"], axis = 1)\n",
    "    demo_full = demo.merge(pd.get_dummies(demo.ETHNICITY), left_index= True, right_index= True)\n",
    "    #gender 1 is M 0 is F\n",
    "    demo_full.GENDER = demo_full.GENDER.apply(lambda x: 1 if x == \"M\" else 0)\n",
    "    \n",
    "    return demo_full.drop([\"ETHNICITY\"], axis = 1)"
   ]
  },
  {
   "cell_type": "code",
   "execution_count": 115,
   "metadata": {
    "collapsed": true
   },
   "outputs": [],
   "source": [
    "if with_time:\n",
    "    control_demo = get_demographic(control_out)\n",
    "    control_demo.to_csv('./cleaned_data/control_demo_wt.csv')\n",
    "    case_demo = get_demographic(case_filter_out)\n",
    "    case_demo.to_csv('./cleaned_data/case_demo_wt.csv')\n",
    "else:\n",
    "    control_demo = get_demographic(control_out)\n",
    "    control_demo.to_csv('./cleaned_data/control_demo.csv')\n",
    "    case_demo = get_demographic(case_filter_out)\n",
    "    case_demo.to_csv('./cleaned_data/case_demo.csv')"
   ]
  },
  {
   "cell_type": "code",
   "execution_count": null,
   "metadata": {
    "collapsed": true
   },
   "outputs": [],
   "source": []
  },
  {
   "cell_type": "code",
   "execution_count": null,
   "metadata": {
    "collapsed": true
   },
   "outputs": [],
   "source": []
  },
  {
   "cell_type": "code",
   "execution_count": null,
   "metadata": {
    "collapsed": true
   },
   "outputs": [],
   "source": []
  }
 ],
 "metadata": {
  "anaconda-cloud": {},
  "kernelspec": {
   "display_name": "jupyter_tf_gym",
   "language": "python",
   "name": "jupyter_tf_gym"
  },
  "language_info": {
   "codemirror_mode": {
    "name": "ipython",
    "version": 3
   },
   "file_extension": ".py",
   "mimetype": "text/x-python",
   "name": "python",
   "nbconvert_exporter": "python",
   "pygments_lexer": "ipython3",
   "version": "3.6.2"
  }
 },
 "nbformat": 4,
 "nbformat_minor": 2
}
