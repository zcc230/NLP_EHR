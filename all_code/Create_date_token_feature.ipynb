{
 "cells": [
  {
   "cell_type": "markdown",
   "metadata": {},
   "source": [
    "### Padding with time-gap tokens\n",
    "measure with days between events for a patient and padd a \"time token\" between events to capture time lapse feature  \n",
    "eg. \n",
    "\n",
    "event1 | 2010-01-01  => event2 | 2010-01-03    \n",
    "event1 | 2010-01-01  => token(2days) | 2010-01-01  => event2 | 2010-01-03 "
   ]
  },
  {
   "cell_type": "code",
   "execution_count": 1,
   "metadata": {
    "collapsed": true
   },
   "outputs": [],
   "source": [
    "import numpy as np\n",
    "import pandas as pd"
   ]
  },
  {
   "cell_type": "code",
   "execution_count": 2,
   "metadata": {
    "collapsed": true
   },
   "outputs": [],
   "source": [
    "use_mv = True\n",
    "\n",
    "if use_mv:\n",
    "    all_events_data = pd.read_csv(\"./cleaned_data/all_events_data_mv.csv\",index_col = 0,dtype = str)\n",
    "else:\n",
    "    all_events_data = pd.read_csv(\"./cleaned_data/all_events_data.csv\", index_col = 0,dtype = str)"
   ]
  },
  {
   "cell_type": "code",
   "execution_count": 3,
   "metadata": {
    "collapsed": true
   },
   "outputs": [],
   "source": [
    "all_events_data[\"EVE_INDEX\"] = all_events_data[\"EVE_INDEX\"].astype(\"int\")"
   ]
  },
  {
   "cell_type": "code",
   "execution_count": 4,
   "metadata": {
    "collapsed": true
   },
   "outputs": [],
   "source": [
    "all_events_data[\"TIME\"] =pd.to_datetime(all_events_data[\"TIME\"],infer_datetime_format = True,format=\"%Y-%m-%d %H:%M:%S\")\n",
    "#delete all invalid time\n",
    "all_events_data =all_events_data[~all_events_data.TIME.isnull()].reset_index(drop = True)"
   ]
  },
  {
   "cell_type": "code",
   "execution_count": 5,
   "metadata": {
    "collapsed": true
   },
   "outputs": [],
   "source": [
    "#merge with timestamp of next event\n",
    "time_next = pd.DataFrame({\"TIME_next\":all_events_data.TIME[1:]}).reset_index(drop = True)\n",
    "time_merged = all_events_data.merge(time_next, how = \"left\", left_index=True, right_index=True)"
   ]
  },
  {
   "cell_type": "code",
   "execution_count": 6,
   "metadata": {
    "collapsed": true
   },
   "outputs": [],
   "source": [
    "#calculate day-gaps after each event for each \n",
    "time_token =pd.DataFrame({\"time_gap\":time_merged.TIME_next - time_merged.TIME, \"flag\":np.ones(len(time_merged))})"
   ]
  },
  {
   "cell_type": "code",
   "execution_count": 7,
   "metadata": {
    "collapsed": true
   },
   "outputs": [],
   "source": [
    "time_token = all_events_data.merge(time_token, how = \"left\", left_index=True, right_index=True)"
   ]
  },
  {
   "cell_type": "code",
   "execution_count": 8,
   "metadata": {
    "collapsed": true
   },
   "outputs": [],
   "source": [
    "#get rid of the last time-gap of each patient (its meaningless)\n",
    "time_token_clean = time_token.groupby(\"SUBJECT_ID\").apply(lambda x: x[:-1])"
   ]
  },
  {
   "cell_type": "code",
   "execution_count": 9,
   "metadata": {
    "collapsed": true
   },
   "outputs": [],
   "source": [
    "#remove the observation with inconsistant time. one happend over 50 years before the next event\n",
    "a = time_token_clean[time_token_clean.time_gap > pd.Timedelta(days=15000)]\n",
    "index_to_drop = [i for (a,i) in a.index]\n",
    "#remove from the orginal data,\n",
    "all_events_data.drop(index_to_drop, inplace = True)\n",
    "#remove from time token data\n",
    "time_token_clean = time_token_clean[time_token_clean.time_gap < pd.Timedelta(days=15000)]\n",
    "#reset_index\n",
    "time_token_clean.reset_index(drop = True, inplace = True)"
   ]
  },
  {
   "cell_type": "code",
   "execution_count": 10,
   "metadata": {
    "collapsed": true
   },
   "outputs": [],
   "source": [
    "time_token_clean.time_gap = time_token_clean.time_gap.apply(lambda x:x.days)"
   ]
  },
  {
   "cell_type": "code",
   "execution_count": 11,
   "metadata": {
    "collapsed": true
   },
   "outputs": [],
   "source": [
    "# to create tokens only take time gap >0\n",
    "time_token_clean = time_token_clean[time_token_clean.time_gap > 0]"
   ]
  },
  {
   "cell_type": "code",
   "execution_count": 12,
   "metadata": {
    "collapsed": true
   },
   "outputs": [],
   "source": [
    "#create bins 0-2 days 3-5 days 6-12 days 13-30 days 30-90 days 90-365 days 365+ days\n",
    "max_gap_days = np.max(time_token_clean.time_gap)\n",
    "max_index = all_events_data[\"EVE_INDEX\"].max()\n",
    "\n",
    "time_token_clean[\"Bin_indx\"] = pd.cut(time_token_clean.time_gap, [0,2,7,15,90,365,max_gap_days], labels=[max_index+1,max_index+2,max_index+3,max_index+4,max_index+5,max_index+6])\n",
    "time_token_clean[\"Bin\"] = pd.cut(time_token_clean.time_gap, [0,2,7,15,90,365,max_gap_days], \\\n",
    "                                 labels=[\"timetoken0-2day\",\"timetoken3-7day\",\"timetoken8-15day\",\"timetoken16-90day\",\"timetoken91-365day\",\"timetoken366+day\"])"
   ]
  },
  {
   "cell_type": "code",
   "execution_count": 13,
   "metadata": {
    "collapsed": true
   },
   "outputs": [],
   "source": [
    "time_token_clean = time_token_clean.drop([\"EVE_INDEX\", \"EVENTS\"], axis=1)\\\n",
    "                            .rename(columns = {\"Bin_indx\":\"EVE_INDEX\",\"Bin\":\"EVENTS\" })"
   ]
  },
  {
   "cell_type": "code",
   "execution_count": 14,
   "metadata": {
    "collapsed": true
   },
   "outputs": [],
   "source": [
    "#create time tokens as \"events\" and \"event\" index same format as other events\n",
    "time_token_clean_final = time_token_clean.reindex(columns = [u'EVENTS', u'SUBJECT_ID', u'TIME', u'EVE_INDEX','flag'])\n",
    "time_token_clean_final['EVENTS'] = time_token_clean_final['EVENTS'].astype('object')\n",
    "time_token_clean_final['EVE_INDEX'] = time_token_clean_final['EVE_INDEX'].astype('int')"
   ]
  },
  {
   "cell_type": "code",
   "execution_count": 15,
   "metadata": {
    "collapsed": true
   },
   "outputs": [],
   "source": [
    "#concatenate with event data\n",
    "all_events_data[\"flag\"] = np.zeros(len(all_events_data))\n",
    "all_events_w_time = pd.concat([time_token_clean_final,all_events_data], axis = 0)\\\n",
    "                            .sort_values(by =['SUBJECT_ID','TIME','flag'])"
   ]
  },
  {
   "cell_type": "code",
   "execution_count": 16,
   "metadata": {
    "collapsed": true
   },
   "outputs": [],
   "source": [
    "all_events_w_time.drop(['flag'],axis = 1, inplace = True)"
   ]
  },
  {
   "cell_type": "code",
   "execution_count": 17,
   "metadata": {
    "collapsed": true
   },
   "outputs": [],
   "source": [
    "if use_mv:\n",
    "    all_events_w_time.to_csv(\"./cleaned_data/all_events_data_w_time_mv.csv\")\n",
    "else:\n",
    "    all_events_w_time.to_csv(\"./cleaned_data/all_events_data_w_time.csv\")"
   ]
  },
  {
   "cell_type": "code",
   "execution_count": 18,
   "metadata": {
    "collapsed": true
   },
   "outputs": [],
   "source": [
    "event_id = all_events_w_time.ix[:,[\"EVE_INDEX\",\"EVENTS\"]].sort_values(by = \"EVE_INDEX\").drop_duplicates()\n",
    "if use_mv:\n",
    "    event_id.to_csv(\"./cleaned_data/events_id_w_time_mv.csv\")\n",
    "else:\n",
    "    event_id.to_csv(\"./cleaned_data/events_id_w_time.csv\")"
   ]
  },
  {
   "cell_type": "code",
   "execution_count": null,
   "metadata": {
    "collapsed": true
   },
   "outputs": [],
   "source": []
  }
 ],
 "metadata": {
  "anaconda-cloud": {},
  "kernelspec": {
   "display_name": "jupyter_tf_gym",
   "language": "python",
   "name": "jupyter_tf_gym"
  },
  "language_info": {
   "codemirror_mode": {
    "name": "ipython",
    "version": 3
   },
   "file_extension": ".py",
   "mimetype": "text/x-python",
   "name": "python",
   "nbconvert_exporter": "python",
   "pygments_lexer": "ipython3",
   "version": "3.6.2"
  }
 },
 "nbformat": 4,
 "nbformat_minor": 1
}
