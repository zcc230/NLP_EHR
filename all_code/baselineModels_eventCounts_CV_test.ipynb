{
 "cells": [
  {
   "cell_type": "code",
   "execution_count": 1,
   "metadata": {
    "scrolled": true
   },
   "outputs": [
    {
     "name": "stderr",
     "output_type": "stream",
     "text": [
      "C:\\Users\\Daniel\\Anaconda3\\envs\\py27\\lib\\site-packages\\sklearn\\cross_validation.py:44: DeprecationWarning: This module was deprecated in version 0.18 in favor of the model_selection module into which all the refactored classes and functions are moved. Also note that the interface of the new CV iterators are different from that of this module. This module will be removed in 0.20.\n",
      "  \"This module will be removed in 0.20.\", DeprecationWarning)\n"
     ]
    }
   ],
   "source": [
    "import numpy as np\n",
    "\n",
    "from sklearn.linear_model import LogisticRegression\n",
    "from sklearn.svm import LinearSVC\n",
    "from sklearn.tree import DecisionTreeClassifier\n",
    "from sklearn.ensemble import RandomForestClassifier\n",
    "from sklearn.metrics import *\n",
    "from sklearn.cross_validation import KFold, train_test_split\n",
    "\n",
    "from sklearn.datasets import load_svmlight_file"
   ]
  },
  {
   "cell_type": "markdown",
   "metadata": {},
   "source": [
    "### Train Baseline models based on Event Count"
   ]
  },
  {
   "cell_type": "code",
   "execution_count": 2,
   "metadata": {
    "collapsed": true
   },
   "outputs": [],
   "source": [
    "without_time = False\n",
    "\n",
    "if without_time:\n",
    "    N_FEAT = 5475\n",
    "    svmlight_file = \"./cleaned_data/features_svmlight_eventCounts.train\"\n",
    "else:\n",
    "    N_FEAT = 5484\n",
    "    svmlight_file = \"./cleaned_data/features_svmlight_eventCounts_wt.train\""
   ]
  },
  {
   "cell_type": "code",
   "execution_count": 3,
   "metadata": {
    "collapsed": true
   },
   "outputs": [],
   "source": [
    "def get_data_from_svmlight(svmlight_file):\n",
    "    data_train = load_svmlight_file(svmlight_file,n_features=N_FEAT)\n",
    "    X_train = data_train[0]\n",
    "    Y_train = data_train[1]\n",
    "    return X_train, Y_train"
   ]
  },
  {
   "cell_type": "code",
   "execution_count": 4,
   "metadata": {
    "collapsed": true
   },
   "outputs": [],
   "source": [
    "RANDOM_STATE = 6250"
   ]
  },
  {
   "cell_type": "code",
   "execution_count": null,
   "metadata": {
    "collapsed": true
   },
   "outputs": [],
   "source": []
  },
  {
   "cell_type": "code",
   "execution_count": 5,
   "metadata": {},
   "outputs": [],
   "source": [
    "X, Y = get_data_from_svmlight(svmlight_file)\n"
   ]
  },
  {
   "cell_type": "code",
   "execution_count": 6,
   "metadata": {
    "collapsed": true
   },
   "outputs": [],
   "source": [
    "X_train, X_test, Y_train, Y_test = train_test_split(X, Y, test_size=0.2, random_state=RANDOM_STATE)"
   ]
  },
  {
   "cell_type": "markdown",
   "metadata": {},
   "source": [
    "### Models\n",
    "\n",
    "Logistic, SVM, Decision Tree, Random Forest"
   ]
  },
  {
   "cell_type": "code",
   "execution_count": 7,
   "metadata": {
    "collapsed": true
   },
   "outputs": [],
   "source": [
    "#input: X_train, Y_train\n",
    "#output: Y_pred\n",
    "def logistic_regression_pred(X_train, Y_train, X_test):\n",
    "    #train a logistic regression classifier using X_train and Y_train. Use this to predict labels of X_train\n",
    "    #use default params for the classifier\n",
    "    log_reg = LogisticRegression(random_state=RANDOM_STATE)\n",
    "    log_reg.fit(X_train, Y_train)\n",
    "    Y_pred = log_reg.predict(X_test)\n",
    "\n",
    "    return Y_pred\n",
    "\n",
    "\n",
    "#input: X_train, Y_train\n",
    "#output: Y_pred\n",
    "def svm_pred(X_train, Y_train, X_test):\n",
    "    #train a SVM classifier using X_train and Y_train. Use this to predict labels of X_train\n",
    "    #use default params for the classifier\n",
    "    lin_svc = LinearSVC(random_state=RANDOM_STATE)\n",
    "    lin_svc.fit(X_train, Y_train)\n",
    "    Y_pred = lin_svc.predict(X_test)\n",
    "\n",
    "    return Y_pred\n",
    "\n",
    "\n",
    "#input: X_train, Y_train\n",
    "#output: Y_pred\n",
    "def decisionTree_pred(X_train, Y_train, X_test):\n",
    "    #train a logistic regression classifier using X_train and Y_train. Use this to predict labels of X_train\n",
    "    #use max_depth as 5\n",
    "    dec_tree = DecisionTreeClassifier(max_depth=5, random_state=RANDOM_STATE)\n",
    "    dec_tree.fit(X_train, Y_train)\n",
    "    Y_pred = dec_tree.predict(X_test)\n",
    "\n",
    "    return Y_pred\n",
    "\n",
    "\n",
    "#input: X_train, Y_train\n",
    "#output: Y_pred\n",
    "def randomForest_pred(X_train, Y_train, X_test):\n",
    "    #train a logistic regression classifier using X_train and Y_train. Use this to predict labels of X_train\n",
    "    #use max_depth as 5\n",
    "    rand_forest = RandomForestClassifier(n_estimators=100, random_state=RANDOM_STATE)\n",
    "    rand_forest.fit(X_train, Y_train)\n",
    "    Y_pred = rand_forest.predict(X_test)\n",
    "\n",
    "    return Y_pred"
   ]
  },
  {
   "cell_type": "code",
   "execution_count": 8,
   "metadata": {
    "collapsed": true
   },
   "outputs": [],
   "source": [
    "def classification_metrics(Y_pred, Y_true):\n",
    "    #NOTE: It is important to provide the output in the same order\n",
    "    accuracy = accuracy_score(Y_true, Y_pred)\n",
    "    auc = roc_auc_score(Y_true, Y_pred)\n",
    "    precision = precision_score(Y_true, Y_pred)\n",
    "    recall = recall_score(Y_true, Y_pred)\n",
    "    fscore = f1_score(Y_true, Y_pred)\n",
    "\n",
    "    return accuracy, auc, precision, recall, fscore"
   ]
  },
  {
   "cell_type": "code",
   "execution_count": null,
   "metadata": {
    "collapsed": true
   },
   "outputs": [],
   "source": []
  },
  {
   "cell_type": "code",
   "execution_count": 9,
   "metadata": {
    "collapsed": true
   },
   "outputs": [],
   "source": [
    "kfold = KFold(np.shape(X_train)[0], 10, random_state=RANDOM_STATE)"
   ]
  },
  {
   "cell_type": "markdown",
   "metadata": {},
   "source": [
    "### Logistic Regression"
   ]
  },
  {
   "cell_type": "code",
   "execution_count": 10,
   "metadata": {
    "collapsed": true
   },
   "outputs": [],
   "source": [
    "def cv_logistic(X,Y,kfold):\n",
    "    \n",
    "    acc_list, auc_list = [], []\n",
    "\n",
    "    for train, test in kfold:\n",
    "        X_train, Y_train, X_fold, Y_true = X[train], Y[train], X[test], Y[test]\n",
    "\n",
    "        Y_pred = logistic_regression_pred(X_train, Y_train, X_fold)\n",
    "\n",
    "        metrics = classification_metrics(Y_pred, Y_true)\n",
    "        acc_list.append(metrics[0])\n",
    "        auc_list.append(metrics[1])\n",
    "\n",
    "    acc, auc = np.mean(acc_list), np.mean(auc_list)\n",
    "\n",
    "    return acc, auc"
   ]
  },
  {
   "cell_type": "code",
   "execution_count": 11,
   "metadata": {},
   "outputs": [
    {
     "name": "stdout",
     "output_type": "stream",
     "text": [
      "(0.92153019023986771, 0.90641778836290832)\n"
     ]
    }
   ],
   "source": [
    "print cv_logistic(X_train,Y_train,kfold)"
   ]
  },
  {
   "cell_type": "markdown",
   "metadata": {},
   "source": [
    "### SVM"
   ]
  },
  {
   "cell_type": "code",
   "execution_count": 12,
   "metadata": {
    "collapsed": true
   },
   "outputs": [],
   "source": [
    "def cv_svm(X,Y,kfold):\n",
    "\n",
    "    acc_list, auc_list = [], []\n",
    "\n",
    "    for train, test in kfold:\n",
    "        X_train, Y_train, X_fold, Y_true = X[train], Y[train], X[test], Y[test]\n",
    "\n",
    "        Y_pred = svm_pred(X_train, Y_train, X_fold)\n",
    "\n",
    "        metrics = classification_metrics(Y_pred, Y_true)\n",
    "        acc_list.append(metrics[0])\n",
    "        auc_list.append(metrics[1])\n",
    "\n",
    "    acc, auc = np.mean(acc_list), np.mean(auc_list)\n",
    "\n",
    "    return acc, auc"
   ]
  },
  {
   "cell_type": "code",
   "execution_count": 13,
   "metadata": {
    "scrolled": true
   },
   "outputs": [
    {
     "name": "stdout",
     "output_type": "stream",
     "text": [
      "(0.91702646815550037, 0.90582425305602621)\n"
     ]
    }
   ],
   "source": [
    "print cv_svm(X_train,Y_train,kfold)"
   ]
  },
  {
   "cell_type": "markdown",
   "metadata": {},
   "source": [
    "### Decision Tree"
   ]
  },
  {
   "cell_type": "code",
   "execution_count": 14,
   "metadata": {
    "collapsed": true
   },
   "outputs": [],
   "source": [
    "def cv_decision_tree(X,Y,kfold):\n",
    "    acc_list, auc_list = [], []\n",
    "\n",
    "    for train, test in kfold:\n",
    "        X_train, Y_train, X_fold, Y_true = X[train], Y[train], X[test], Y[test]\n",
    "\n",
    "        Y_pred = decisionTree_pred(X_train, Y_train, X_fold)\n",
    "\n",
    "        metrics = classification_metrics(Y_pred, Y_true)\n",
    "        acc_list.append(metrics[0])\n",
    "        auc_list.append(metrics[1])\n",
    "\n",
    "    acc, auc = np.mean(acc_list), np.mean(auc_list)\n",
    "\n",
    "    return acc, auc"
   ]
  },
  {
   "cell_type": "code",
   "execution_count": 15,
   "metadata": {},
   "outputs": [
    {
     "name": "stdout",
     "output_type": "stream",
     "text": [
      "(0.93631100082712992, 0.92979315912191329)\n"
     ]
    }
   ],
   "source": [
    "print cv_decision_tree(X_train,Y_train,kfold)"
   ]
  },
  {
   "cell_type": "code",
   "execution_count": null,
   "metadata": {
    "collapsed": true
   },
   "outputs": [],
   "source": []
  },
  {
   "cell_type": "markdown",
   "metadata": {},
   "source": [
    "### Random Forest"
   ]
  },
  {
   "cell_type": "code",
   "execution_count": 16,
   "metadata": {
    "collapsed": true
   },
   "outputs": [],
   "source": [
    "def cv_random_forest(X,Y,kfold):\n",
    "    acc_list, auc_list = [], []\n",
    "\n",
    "    for train, test in kfold:\n",
    "        X_train, Y_train, X_fold, Y_true = X[train], Y[train], X[test], Y[test]\n",
    "\n",
    "        Y_pred = randomForest_pred(X_train, Y_train, X_fold)\n",
    "\n",
    "        metrics = classification_metrics(Y_pred, Y_true)\n",
    "        acc_list.append(metrics[0])\n",
    "        auc_list.append(metrics[1])\n",
    "\n",
    "    acc, auc = np.mean(acc_list), np.mean(auc_list)\n",
    "\n",
    "    return acc, auc"
   ]
  },
  {
   "cell_type": "code",
   "execution_count": 17,
   "metadata": {},
   "outputs": [
    {
     "name": "stdout",
     "output_type": "stream",
     "text": [
      "(0.84438378825475602, 0.77548603541535654)\n"
     ]
    }
   ],
   "source": [
    "print cv_random_forest(X_train,Y_train,kfold)"
   ]
  },
  {
   "cell_type": "markdown",
   "metadata": {},
   "source": [
    "### Run the test data on the models"
   ]
  },
  {
   "cell_type": "code",
   "execution_count": 18,
   "metadata": {
    "collapsed": true
   },
   "outputs": [],
   "source": [
    "#input: Name of classifier, predicted labels, actual labels\n",
    "def display_metrics(classifierName,Y_pred,Y_true):\n",
    "    print \"______________________________________________\"\n",
    "    print \"Classifier: \"+classifierName\n",
    "    acc, auc_, precision, recall, f1score = classification_metrics(Y_pred,Y_true)\n",
    "    print \"Accuracy: \"+str(acc)\n",
    "    print \"AUC: \"+str(auc_)\n",
    "    print \"Precision: \"+str(precision)\n",
    "    print \"Recall: \"+str(recall)\n",
    "    print \"F1-score: \"+str(f1score)\n",
    "    print \"______________________________________________\"\n",
    "    print \"\""
   ]
  },
  {
   "cell_type": "code",
   "execution_count": null,
   "metadata": {
    "collapsed": true
   },
   "outputs": [],
   "source": []
  },
  {
   "cell_type": "code",
   "execution_count": 19,
   "metadata": {},
   "outputs": [
    {
     "name": "stdout",
     "output_type": "stream",
     "text": [
      "______________________________________________\n",
      "Classifier: Logistic Regression\n",
      "Accuracy: 0.922879177378\n",
      "AUC: 0.916920095408\n",
      "Precision: 0.872180451128\n",
      "Recall: 0.899224806202\n",
      "F1-score: 0.885496183206\n",
      "______________________________________________\n",
      "\n",
      "______________________________________________\n",
      "Classifier: SVM\n",
      "Accuracy: 0.904884318766\n",
      "AUC: 0.899552772809\n",
      "Precision: 0.838235294118\n",
      "Recall: 0.883720930233\n",
      "F1-score: 0.860377358491\n",
      "______________________________________________\n",
      "\n",
      "______________________________________________\n",
      "Classifier: Decision Tree\n",
      "Accuracy: 0.917737789203\n",
      "AUC: 0.915026833631\n",
      "Precision: 0.85401459854\n",
      "Recall: 0.906976744186\n",
      "F1-score: 0.87969924812\n",
      "______________________________________________\n",
      "\n",
      "______________________________________________\n",
      "Classifier: Random Forest\n",
      "Accuracy: 0.820051413882\n",
      "AUC: 0.744305307096\n",
      "Precision: 0.893333333333\n",
      "Recall: 0.519379844961\n",
      "F1-score: 0.656862745098\n",
      "______________________________________________\n",
      "\n"
     ]
    }
   ],
   "source": [
    "display_metrics(\"Logistic Regression\",logistic_regression_pred(X_train,Y_train,X_test),Y_test)\n",
    "\n",
    "display_metrics(\"SVM\",svm_pred(X_train,Y_train,X_test),Y_test)\n",
    "\n",
    "display_metrics(\"Decision Tree\",decisionTree_pred(X_train,Y_train,X_test),Y_test)\n",
    "\n",
    "display_metrics(\"Random Forest\",randomForest_pred(X_train,Y_train,X_test),Y_test)"
   ]
  },
  {
   "cell_type": "code",
   "execution_count": null,
   "metadata": {
    "collapsed": true
   },
   "outputs": [],
   "source": []
  }
 ],
 "metadata": {
  "kernelspec": {
   "display_name": "Python [conda env:py27]",
   "language": "python",
   "name": "conda-env-py27-py"
  },
  "language_info": {
   "codemirror_mode": {
    "name": "ipython",
    "version": 2
   },
   "file_extension": ".py",
   "mimetype": "text/x-python",
   "name": "python",
   "nbconvert_exporter": "python",
   "pygments_lexer": "ipython2",
   "version": "2.7.12"
  }
 },
 "nbformat": 4,
 "nbformat_minor": 2
}
