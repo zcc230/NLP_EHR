{
 "cells": [
  {
   "cell_type": "code",
   "execution_count": 1,
   "metadata": {
    "collapsed": true
   },
   "outputs": [],
   "source": [
    "import numpy as np\n",
    "import pandas as pd\n",
    "import matplotlib as plt\n",
    "%matplotlib inline"
   ]
  },
  {
   "cell_type": "markdown",
   "metadata": {},
   "source": [
    "### Proprocess the diagnoses data\n",
    "\n",
    "In: DIAGNOSES_ICD.csv from MIMIC3   \n",
    "\n",
    "out: df with columns \"SUBJECT_ID\", \"TIME\",\"EVENTS\"  \n",
    "\n",
    "\"TIME\" is \"ADMISSION_TIME\" column joined from \"ADMISSION.csv\", with key \"SUBJECT_ID\" and \"HADM_ID\"\n",
    "\n",
    "\"EVENTS\" is \"ICD9_CODE\" column"
   ]
  },
  {
   "cell_type": "code",
   "execution_count": 2,
   "metadata": {
    "collapsed": false
   },
   "outputs": [
    {
     "ename": "FileNotFoundError",
     "evalue": "File b'./raw_mimic_data/DIAGNOSES_ICD.csv' does not exist",
     "output_type": "error",
     "traceback": [
      "\u001b[0;31m---------------------------------------------------------------------------\u001b[0m",
      "\u001b[0;31mFileNotFoundError\u001b[0m                         Traceback (most recent call last)",
      "\u001b[0;32m<ipython-input-2-ce0536e8f06b>\u001b[0m in \u001b[0;36m<module>\u001b[0;34m()\u001b[0m\n\u001b[0;32m----> 1\u001b[0;31m \u001b[0mdiag\u001b[0m \u001b[0;34m=\u001b[0m \u001b[0mpd\u001b[0m\u001b[0;34m.\u001b[0m\u001b[0mread_csv\u001b[0m\u001b[0;34m(\u001b[0m\u001b[0;34m\"./raw_mimic_data/DIAGNOSES_ICD.csv\"\u001b[0m\u001b[0;34m,\u001b[0m \u001b[0mdtype\u001b[0m \u001b[0;34m=\u001b[0m \u001b[0mstr\u001b[0m\u001b[0;34m)\u001b[0m\u001b[0;34m\u001b[0m\u001b[0m\n\u001b[0m",
      "\u001b[0;32m//anaconda/envs/tf-gym/lib/python3.6/site-packages/pandas/io/parsers.py\u001b[0m in \u001b[0;36mparser_f\u001b[0;34m(filepath_or_buffer, sep, delimiter, header, names, index_col, usecols, squeeze, prefix, mangle_dupe_cols, dtype, engine, converters, true_values, false_values, skipinitialspace, skiprows, nrows, na_values, keep_default_na, na_filter, verbose, skip_blank_lines, parse_dates, infer_datetime_format, keep_date_col, date_parser, dayfirst, iterator, chunksize, compression, thousands, decimal, lineterminator, quotechar, quoting, escapechar, comment, encoding, dialect, tupleize_cols, error_bad_lines, warn_bad_lines, skipfooter, skip_footer, doublequote, delim_whitespace, as_recarray, compact_ints, use_unsigned, low_memory, buffer_lines, memory_map, float_precision)\u001b[0m\n\u001b[1;32m    707\u001b[0m                     skip_blank_lines=skip_blank_lines)\n\u001b[1;32m    708\u001b[0m \u001b[0;34m\u001b[0m\u001b[0m\n\u001b[0;32m--> 709\u001b[0;31m         \u001b[0;32mreturn\u001b[0m \u001b[0m_read\u001b[0m\u001b[0;34m(\u001b[0m\u001b[0mfilepath_or_buffer\u001b[0m\u001b[0;34m,\u001b[0m \u001b[0mkwds\u001b[0m\u001b[0;34m)\u001b[0m\u001b[0;34m\u001b[0m\u001b[0m\n\u001b[0m\u001b[1;32m    710\u001b[0m \u001b[0;34m\u001b[0m\u001b[0m\n\u001b[1;32m    711\u001b[0m     \u001b[0mparser_f\u001b[0m\u001b[0;34m.\u001b[0m\u001b[0m__name__\u001b[0m \u001b[0;34m=\u001b[0m \u001b[0mname\u001b[0m\u001b[0;34m\u001b[0m\u001b[0m\n",
      "\u001b[0;32m//anaconda/envs/tf-gym/lib/python3.6/site-packages/pandas/io/parsers.py\u001b[0m in \u001b[0;36m_read\u001b[0;34m(filepath_or_buffer, kwds)\u001b[0m\n\u001b[1;32m    447\u001b[0m \u001b[0;34m\u001b[0m\u001b[0m\n\u001b[1;32m    448\u001b[0m     \u001b[0;31m# Create the parser.\u001b[0m\u001b[0;34m\u001b[0m\u001b[0;34m\u001b[0m\u001b[0m\n\u001b[0;32m--> 449\u001b[0;31m     \u001b[0mparser\u001b[0m \u001b[0;34m=\u001b[0m \u001b[0mTextFileReader\u001b[0m\u001b[0;34m(\u001b[0m\u001b[0mfilepath_or_buffer\u001b[0m\u001b[0;34m,\u001b[0m \u001b[0;34m**\u001b[0m\u001b[0mkwds\u001b[0m\u001b[0;34m)\u001b[0m\u001b[0;34m\u001b[0m\u001b[0m\n\u001b[0m\u001b[1;32m    450\u001b[0m \u001b[0;34m\u001b[0m\u001b[0m\n\u001b[1;32m    451\u001b[0m     \u001b[0;32mif\u001b[0m \u001b[0mchunksize\u001b[0m \u001b[0;32mor\u001b[0m \u001b[0miterator\u001b[0m\u001b[0;34m:\u001b[0m\u001b[0;34m\u001b[0m\u001b[0m\n",
      "\u001b[0;32m//anaconda/envs/tf-gym/lib/python3.6/site-packages/pandas/io/parsers.py\u001b[0m in \u001b[0;36m__init__\u001b[0;34m(self, f, engine, **kwds)\u001b[0m\n\u001b[1;32m    816\u001b[0m             \u001b[0mself\u001b[0m\u001b[0;34m.\u001b[0m\u001b[0moptions\u001b[0m\u001b[0;34m[\u001b[0m\u001b[0;34m'has_index_names'\u001b[0m\u001b[0;34m]\u001b[0m \u001b[0;34m=\u001b[0m \u001b[0mkwds\u001b[0m\u001b[0;34m[\u001b[0m\u001b[0;34m'has_index_names'\u001b[0m\u001b[0;34m]\u001b[0m\u001b[0;34m\u001b[0m\u001b[0m\n\u001b[1;32m    817\u001b[0m \u001b[0;34m\u001b[0m\u001b[0m\n\u001b[0;32m--> 818\u001b[0;31m         \u001b[0mself\u001b[0m\u001b[0;34m.\u001b[0m\u001b[0m_make_engine\u001b[0m\u001b[0;34m(\u001b[0m\u001b[0mself\u001b[0m\u001b[0;34m.\u001b[0m\u001b[0mengine\u001b[0m\u001b[0;34m)\u001b[0m\u001b[0;34m\u001b[0m\u001b[0m\n\u001b[0m\u001b[1;32m    819\u001b[0m \u001b[0;34m\u001b[0m\u001b[0m\n\u001b[1;32m    820\u001b[0m     \u001b[0;32mdef\u001b[0m \u001b[0mclose\u001b[0m\u001b[0;34m(\u001b[0m\u001b[0mself\u001b[0m\u001b[0;34m)\u001b[0m\u001b[0;34m:\u001b[0m\u001b[0;34m\u001b[0m\u001b[0m\n",
      "\u001b[0;32m//anaconda/envs/tf-gym/lib/python3.6/site-packages/pandas/io/parsers.py\u001b[0m in \u001b[0;36m_make_engine\u001b[0;34m(self, engine)\u001b[0m\n\u001b[1;32m   1047\u001b[0m     \u001b[0;32mdef\u001b[0m \u001b[0m_make_engine\u001b[0m\u001b[0;34m(\u001b[0m\u001b[0mself\u001b[0m\u001b[0;34m,\u001b[0m \u001b[0mengine\u001b[0m\u001b[0;34m=\u001b[0m\u001b[0;34m'c'\u001b[0m\u001b[0;34m)\u001b[0m\u001b[0;34m:\u001b[0m\u001b[0;34m\u001b[0m\u001b[0m\n\u001b[1;32m   1048\u001b[0m         \u001b[0;32mif\u001b[0m \u001b[0mengine\u001b[0m \u001b[0;34m==\u001b[0m \u001b[0;34m'c'\u001b[0m\u001b[0;34m:\u001b[0m\u001b[0;34m\u001b[0m\u001b[0m\n\u001b[0;32m-> 1049\u001b[0;31m             \u001b[0mself\u001b[0m\u001b[0;34m.\u001b[0m\u001b[0m_engine\u001b[0m \u001b[0;34m=\u001b[0m \u001b[0mCParserWrapper\u001b[0m\u001b[0;34m(\u001b[0m\u001b[0mself\u001b[0m\u001b[0;34m.\u001b[0m\u001b[0mf\u001b[0m\u001b[0;34m,\u001b[0m \u001b[0;34m**\u001b[0m\u001b[0mself\u001b[0m\u001b[0;34m.\u001b[0m\u001b[0moptions\u001b[0m\u001b[0;34m)\u001b[0m\u001b[0;34m\u001b[0m\u001b[0m\n\u001b[0m\u001b[1;32m   1050\u001b[0m         \u001b[0;32melse\u001b[0m\u001b[0;34m:\u001b[0m\u001b[0;34m\u001b[0m\u001b[0m\n\u001b[1;32m   1051\u001b[0m             \u001b[0;32mif\u001b[0m \u001b[0mengine\u001b[0m \u001b[0;34m==\u001b[0m \u001b[0;34m'python'\u001b[0m\u001b[0;34m:\u001b[0m\u001b[0;34m\u001b[0m\u001b[0m\n",
      "\u001b[0;32m//anaconda/envs/tf-gym/lib/python3.6/site-packages/pandas/io/parsers.py\u001b[0m in \u001b[0;36m__init__\u001b[0;34m(self, src, **kwds)\u001b[0m\n\u001b[1;32m   1693\u001b[0m         \u001b[0mkwds\u001b[0m\u001b[0;34m[\u001b[0m\u001b[0;34m'allow_leading_cols'\u001b[0m\u001b[0;34m]\u001b[0m \u001b[0;34m=\u001b[0m \u001b[0mself\u001b[0m\u001b[0;34m.\u001b[0m\u001b[0mindex_col\u001b[0m \u001b[0;32mis\u001b[0m \u001b[0;32mnot\u001b[0m \u001b[0;32mFalse\u001b[0m\u001b[0;34m\u001b[0m\u001b[0m\n\u001b[1;32m   1694\u001b[0m \u001b[0;34m\u001b[0m\u001b[0m\n\u001b[0;32m-> 1695\u001b[0;31m         \u001b[0mself\u001b[0m\u001b[0;34m.\u001b[0m\u001b[0m_reader\u001b[0m \u001b[0;34m=\u001b[0m \u001b[0mparsers\u001b[0m\u001b[0;34m.\u001b[0m\u001b[0mTextReader\u001b[0m\u001b[0;34m(\u001b[0m\u001b[0msrc\u001b[0m\u001b[0;34m,\u001b[0m \u001b[0;34m**\u001b[0m\u001b[0mkwds\u001b[0m\u001b[0;34m)\u001b[0m\u001b[0;34m\u001b[0m\u001b[0m\n\u001b[0m\u001b[1;32m   1696\u001b[0m \u001b[0;34m\u001b[0m\u001b[0m\n\u001b[1;32m   1697\u001b[0m         \u001b[0;31m# XXX\u001b[0m\u001b[0;34m\u001b[0m\u001b[0;34m\u001b[0m\u001b[0m\n",
      "\u001b[0;32mpandas/_libs/parsers.pyx\u001b[0m in \u001b[0;36mpandas._libs.parsers.TextReader.__cinit__\u001b[0;34m()\u001b[0m\n",
      "\u001b[0;32mpandas/_libs/parsers.pyx\u001b[0m in \u001b[0;36mpandas._libs.parsers.TextReader._setup_parser_source\u001b[0;34m()\u001b[0m\n",
      "\u001b[0;31mFileNotFoundError\u001b[0m: File b'./raw_mimic_data/DIAGNOSES_ICD.csv' does not exist"
     ]
    }
   ],
   "source": [
    "diag = pd.read_csv(\"./raw_mimic_data/DIAGNOSES_ICD.csv\", dtype = str)"
   ]
  },
  {
   "cell_type": "code",
   "execution_count": 52,
   "metadata": {
    "collapsed": false
   },
   "outputs": [
    {
     "data": {
      "text/html": [
       "<div>\n",
       "<table border=\"1\" class=\"dataframe\">\n",
       "  <thead>\n",
       "    <tr style=\"text-align: right;\">\n",
       "      <th></th>\n",
       "      <th>ROW_ID</th>\n",
       "      <th>SUBJECT_ID</th>\n",
       "      <th>HADM_ID</th>\n",
       "      <th>SEQ_NUM</th>\n",
       "      <th>ICD9_CODE</th>\n",
       "    </tr>\n",
       "  </thead>\n",
       "  <tbody>\n",
       "    <tr>\n",
       "      <th>0</th>\n",
       "      <td>1297</td>\n",
       "      <td>109</td>\n",
       "      <td>172335</td>\n",
       "      <td>1</td>\n",
       "      <td>40301</td>\n",
       "    </tr>\n",
       "    <tr>\n",
       "      <th>1</th>\n",
       "      <td>1298</td>\n",
       "      <td>109</td>\n",
       "      <td>172335</td>\n",
       "      <td>2</td>\n",
       "      <td>486</td>\n",
       "    </tr>\n",
       "    <tr>\n",
       "      <th>2</th>\n",
       "      <td>1299</td>\n",
       "      <td>109</td>\n",
       "      <td>172335</td>\n",
       "      <td>3</td>\n",
       "      <td>58281</td>\n",
       "    </tr>\n",
       "    <tr>\n",
       "      <th>3</th>\n",
       "      <td>1300</td>\n",
       "      <td>109</td>\n",
       "      <td>172335</td>\n",
       "      <td>4</td>\n",
       "      <td>5855</td>\n",
       "    </tr>\n",
       "    <tr>\n",
       "      <th>4</th>\n",
       "      <td>1301</td>\n",
       "      <td>109</td>\n",
       "      <td>172335</td>\n",
       "      <td>5</td>\n",
       "      <td>4254</td>\n",
       "    </tr>\n",
       "  </tbody>\n",
       "</table>\n",
       "</div>"
      ],
      "text/plain": [
       "  ROW_ID SUBJECT_ID HADM_ID SEQ_NUM ICD9_CODE\n",
       "0   1297        109  172335       1     40301\n",
       "1   1298        109  172335       2       486\n",
       "2   1299        109  172335       3     58281\n",
       "3   1300        109  172335       4      5855\n",
       "4   1301        109  172335       5      4254"
      ]
     },
     "execution_count": 52,
     "metadata": {},
     "output_type": "execute_result"
    }
   ],
   "source": [
    "diag.head(5)"
   ]
  },
  {
   "cell_type": "code",
   "execution_count": 53,
   "metadata": {
    "collapsed": false
   },
   "outputs": [
    {
     "name": "stdout",
     "output_type": "stream",
     "text": [
      "651047\n",
      "6984\n",
      "46520\n"
     ]
    }
   ],
   "source": [
    "print diag.shape[0]\n",
    "print diag.ICD9_CODE.nunique()\n",
    "print diag.SUBJECT_ID.nunique()"
   ]
  },
  {
   "cell_type": "code",
   "execution_count": 54,
   "metadata": {
    "collapsed": true
   },
   "outputs": [],
   "source": [
    "#set wether to group icd 9 codes (first 3 string)\n",
    "group_icd_codes = True"
   ]
  },
  {
   "cell_type": "code",
   "execution_count": 55,
   "metadata": {
    "collapsed": true
   },
   "outputs": [],
   "source": [
    "if group_icd_codes:\n",
    "    diag[\"ICD9_CODE\"] = diag[\"ICD9_CODE\"].apply(lambda x: str(x)[:3])"
   ]
  },
  {
   "cell_type": "code",
   "execution_count": 56,
   "metadata": {
    "collapsed": false
   },
   "outputs": [
    {
     "name": "stdout",
     "output_type": "stream",
     "text": [
      "0\n"
     ]
    }
   ],
   "source": [
    "#plenty of people diagnosed HF\n",
    "print diag[diag[\"ICD9_CODE\"] == \"D428\"].SUBJECT_ID.nunique()"
   ]
  },
  {
   "cell_type": "code",
   "execution_count": 57,
   "metadata": {
    "collapsed": true
   },
   "outputs": [],
   "source": [
    "#here I use first 3 digits to group diagonisis codes to avoid sparsity\n",
    "diag_clean = diag.ix[:,[\"SUBJECT_ID\", \"ICD9_CODE\"]]\n",
    "diag_count = diag_clean.groupby(\"ICD9_CODE\").count()"
   ]
  },
  {
   "cell_type": "code",
   "execution_count": 58,
   "metadata": {
    "collapsed": false
   },
   "outputs": [
    {
     "name": "stdout",
     "output_type": "stream",
     "text": [
      "(943, 1)\n",
      "(124, 1)\n"
     ]
    }
   ],
   "source": [
    "#124 codes have 5 instances or less. For now I will include them in the model but will check in the future\n",
    "print diag_count.shape\n",
    "print diag_count[diag_count.SUBJECT_ID < 5].shape"
   ]
  },
  {
   "cell_type": "code",
   "execution_count": 59,
   "metadata": {
    "collapsed": true
   },
   "outputs": [],
   "source": [
    "#now need to find a way to get the date and time \n",
    "#import boto\n",
    "#join admission time as the time of the diagonsis\n",
    "admission = pd.read_csv(\"./raw_mimic_data/ADMISSIONS.csv\", dtype = str)\n",
    "admission = admission.ix[:,[\"SUBJECT_ID\", \"HADM_ID\", \"ADMITTIME\"]]"
   ]
  },
  {
   "cell_type": "code",
   "execution_count": 60,
   "metadata": {
    "collapsed": true
   },
   "outputs": [],
   "source": [
    "diag_w_time = diag.merge(admission, how = \"inner\", on=[\"SUBJECT_ID\", \"HADM_ID\"])\n",
    "diag_w_time.rename(columns = {\"ADMITTIME\": \"TIME\", \"ICD9_CODE\":\"EVENTS\"}, inplace = True )"
   ]
  },
  {
   "cell_type": "code",
   "execution_count": 61,
   "metadata": {
    "collapsed": false
   },
   "outputs": [
    {
     "data": {
      "text/plain": [
       "(651047, 6)"
      ]
     },
     "execution_count": 61,
     "metadata": {},
     "output_type": "execute_result"
    }
   ],
   "source": [
    "diag_w_time.shape"
   ]
  },
  {
   "cell_type": "code",
   "execution_count": 62,
   "metadata": {
    "collapsed": true
   },
   "outputs": [],
   "source": [
    "diag_clean = diag_w_time.ix[:,[\"SUBJECT_ID\", \"EVENTS\", \"TIME\"]]"
   ]
  },
  {
   "cell_type": "code",
   "execution_count": 63,
   "metadata": {
    "collapsed": false
   },
   "outputs": [
    {
     "data": {
      "text/plain": [
       "(651047, 3)"
      ]
     },
     "execution_count": 63,
     "metadata": {},
     "output_type": "execute_result"
    }
   ],
   "source": [
    "#filter out all empty or null diag codes\n",
    "diag_clean[\"EVENTS\"] = diag_clean.EVENTS.str.strip()\n",
    "diag_clean = diag_clean[~diag_clean.EVENTS.isnull()]\n",
    "diag_clean = diag_clean[diag_clean.EVENTS != \"\"]\n",
    "diag_clean.shape"
   ]
  },
  {
   "cell_type": "code",
   "execution_count": 64,
   "metadata": {
    "collapsed": false
   },
   "outputs": [
    {
     "name": "stdout",
     "output_type": "stream",
     "text": [
      "0\n",
      "0\n"
     ]
    }
   ],
   "source": [
    "#make sure no empty/null events\n",
    "print diag_clean[diag_clean.EVENTS.apply(lambda x: len(x.strip())) == 0].shape[0]\n",
    "print diag_clean[diag_clean.EVENTS.isnull()].shape[0]"
   ]
  },
  {
   "cell_type": "code",
   "execution_count": 65,
   "metadata": {
    "collapsed": false
   },
   "outputs": [
    {
     "data": {
      "text/html": [
       "<div>\n",
       "<table border=\"1\" class=\"dataframe\">\n",
       "  <thead>\n",
       "    <tr style=\"text-align: right;\">\n",
       "      <th></th>\n",
       "      <th>SUBJECT_ID</th>\n",
       "      <th>EVENTS</th>\n",
       "      <th>TIME</th>\n",
       "    </tr>\n",
       "  </thead>\n",
       "  <tbody>\n",
       "    <tr>\n",
       "      <th>0</th>\n",
       "      <td>109</td>\n",
       "      <td>403</td>\n",
       "      <td>2141-09-18 10:32:00</td>\n",
       "    </tr>\n",
       "    <tr>\n",
       "      <th>1</th>\n",
       "      <td>109</td>\n",
       "      <td>486</td>\n",
       "      <td>2141-09-18 10:32:00</td>\n",
       "    </tr>\n",
       "    <tr>\n",
       "      <th>2</th>\n",
       "      <td>109</td>\n",
       "      <td>582</td>\n",
       "      <td>2141-09-18 10:32:00</td>\n",
       "    </tr>\n",
       "    <tr>\n",
       "      <th>3</th>\n",
       "      <td>109</td>\n",
       "      <td>585</td>\n",
       "      <td>2141-09-18 10:32:00</td>\n",
       "    </tr>\n",
       "    <tr>\n",
       "      <th>4</th>\n",
       "      <td>109</td>\n",
       "      <td>425</td>\n",
       "      <td>2141-09-18 10:32:00</td>\n",
       "    </tr>\n",
       "  </tbody>\n",
       "</table>\n",
       "</div>"
      ],
      "text/plain": [
       "  SUBJECT_ID EVENTS                 TIME\n",
       "0        109    403  2141-09-18 10:32:00\n",
       "1        109    486  2141-09-18 10:32:00\n",
       "2        109    582  2141-09-18 10:32:00\n",
       "3        109    585  2141-09-18 10:32:00\n",
       "4        109    425  2141-09-18 10:32:00"
      ]
     },
     "execution_count": 65,
     "metadata": {},
     "output_type": "execute_result"
    }
   ],
   "source": [
    "#diagnosis data with time\n",
    "diag_clean.head()"
   ]
  },
  {
   "cell_type": "markdown",
   "metadata": {},
   "source": [
    "### preprocess prescription data\n",
    "\n",
    "In: PROCEDURES_ICD.csv from MIMIC3   \n",
    "\n",
    "out: df with columns \"SUBJECT_ID\", \"TIME\",\"EVENTS\"  \n",
    "\n",
    "\"TIME\" is \"STARTDATE\" column\n",
    "\n",
    "\"EVENTS\" is \"DRUG\" column as drug names"
   ]
  },
  {
   "cell_type": "code",
   "execution_count": 66,
   "metadata": {
    "collapsed": true
   },
   "outputs": [],
   "source": [
    "#now I will look at the prescription\n",
    "pres = pd.read_csv(\"./raw_mimic_data/PRESCRIPTIONS.csv\", dtype = str)"
   ]
  },
  {
   "cell_type": "code",
   "execution_count": 67,
   "metadata": {
    "collapsed": false
   },
   "outputs": [
    {
     "data": {
      "text/plain": [
       "count      4525.000000\n",
       "mean        918.552486\n",
       "std        6994.611320\n",
       "min           1.000000\n",
       "25%           1.000000\n",
       "50%           4.000000\n",
       "75%          50.000000\n",
       "max      192993.000000\n",
       "Name: SUBJECT_ID, dtype: float64"
      ]
     },
     "execution_count": 67,
     "metadata": {},
     "output_type": "execute_result"
    }
   ],
   "source": [
    "#again extremely skewed distribution, might need to group rare codes \n",
    "pres_clean = pres.ix[:, [\"SUBJECT_ID\", \"STARTDATE\", \"DRUG\"]]\n",
    "drug_ct = pres_clean.groupby(\"DRUG\").count()[\"SUBJECT_ID\"]\n",
    "drug_ct.describe()"
   ]
  },
  {
   "cell_type": "code",
   "execution_count": 68,
   "metadata": {
    "collapsed": false
   },
   "outputs": [
    {
     "data": {
      "text/plain": [
       "4156450"
      ]
     },
     "execution_count": 68,
     "metadata": {},
     "output_type": "execute_result"
    }
   ],
   "source": [
    "pres_clean.shape[0]"
   ]
  },
  {
   "cell_type": "code",
   "execution_count": 69,
   "metadata": {
    "collapsed": true
   },
   "outputs": [],
   "source": [
    "pres_clean.rename(columns = {\"STARTDATE\":\"TIME\", \"DRUG\":\"EVENTS\"},inplace = True)"
   ]
  },
  {
   "cell_type": "code",
   "execution_count": 70,
   "metadata": {
    "collapsed": false
   },
   "outputs": [
    {
     "name": "stdout",
     "output_type": "stream",
     "text": [
      "0\n",
      "0\n",
      "4156449\n"
     ]
    }
   ],
   "source": [
    "#get rid of all null/empty observations\n",
    "pres_clean[\"EVENTS\"] = pres_clean.EVENTS.str.strip()\n",
    "pres_clean[\"EVENTS\"] = pres_clean.EVENTS.str.lower()\n",
    "\n",
    "pres_clean = pres_clean[~pres_clean.EVENTS.isnull()]\n",
    "pres_clean = pres_clean[pres_clean.EVENTS != \"\"]\n",
    "\n",
    "#make sure no empty/null events\n",
    "print pres_clean[pres_clean.EVENTS.apply(lambda x: len(x.strip())) == 0].shape[0]\n",
    "print pres_clean[pres_clean.EVENTS.isnull()].shape[0]\n",
    "print pres_clean.shape[0]"
   ]
  },
  {
   "cell_type": "code",
   "execution_count": 71,
   "metadata": {
    "collapsed": false
   },
   "outputs": [
    {
     "data": {
      "text/html": [
       "<div>\n",
       "<table border=\"1\" class=\"dataframe\">\n",
       "  <thead>\n",
       "    <tr style=\"text-align: right;\">\n",
       "      <th></th>\n",
       "      <th>SUBJECT_ID</th>\n",
       "      <th>TIME</th>\n",
       "      <th>EVENTS</th>\n",
       "    </tr>\n",
       "  </thead>\n",
       "  <tbody>\n",
       "    <tr>\n",
       "      <th>0</th>\n",
       "      <td>6</td>\n",
       "      <td>2175-06-11 00:00:00</td>\n",
       "      <td>tacrolimus</td>\n",
       "    </tr>\n",
       "    <tr>\n",
       "      <th>1</th>\n",
       "      <td>6</td>\n",
       "      <td>2175-06-11 00:00:00</td>\n",
       "      <td>warfarin</td>\n",
       "    </tr>\n",
       "    <tr>\n",
       "      <th>2</th>\n",
       "      <td>6</td>\n",
       "      <td>2175-06-11 00:00:00</td>\n",
       "      <td>heparin sodium</td>\n",
       "    </tr>\n",
       "    <tr>\n",
       "      <th>3</th>\n",
       "      <td>6</td>\n",
       "      <td>2175-06-11 00:00:00</td>\n",
       "      <td>d5w</td>\n",
       "    </tr>\n",
       "    <tr>\n",
       "      <th>4</th>\n",
       "      <td>6</td>\n",
       "      <td>2175-06-11 00:00:00</td>\n",
       "      <td>furosemide</td>\n",
       "    </tr>\n",
       "  </tbody>\n",
       "</table>\n",
       "</div>"
      ],
      "text/plain": [
       "  SUBJECT_ID                 TIME          EVENTS\n",
       "0          6  2175-06-11 00:00:00      tacrolimus\n",
       "1          6  2175-06-11 00:00:00        warfarin\n",
       "2          6  2175-06-11 00:00:00  heparin sodium\n",
       "3          6  2175-06-11 00:00:00             d5w\n",
       "4          6  2175-06-11 00:00:00      furosemide"
      ]
     },
     "execution_count": 71,
     "metadata": {},
     "output_type": "execute_result"
    }
   ],
   "source": [
    "pres_clean.head()"
   ]
  },
  {
   "cell_type": "markdown",
   "metadata": {
    "collapsed": true
   },
   "source": [
    "### preprocess procedure data  \n",
    "\n",
    "In: PROCEDURES_ICD.csv from MIMIC3   \n",
    "\n",
    "out: df with columns \"SUBJECT_ID\", \"TIME\",\"EVENTS\"  \n",
    "\n",
    "\"TIME\" is \"ADMISSION_TIME\" column joined from \"ADMISSION.csv\", with key \"SUBJECT_ID\" and \"HADM_ID\"\n",
    "\n",
    "\"EVENTS\" is \"ICD9_CODE\" column  "
   ]
  },
  {
   "cell_type": "code",
   "execution_count": 72,
   "metadata": {
    "collapsed": true
   },
   "outputs": [],
   "source": [
    "proc = pd.read_csv(\"./raw_mimic_data/PROCEDURES_ICD.csv\", dtype = str)"
   ]
  },
  {
   "cell_type": "code",
   "execution_count": 73,
   "metadata": {
    "collapsed": true
   },
   "outputs": [],
   "source": [
    "proc_w_time = proc.merge(admission, how = \"inner\", on=[\"SUBJECT_ID\", \"HADM_ID\"])\n",
    "proc_w_time.rename(columns = {\"ADMITTIME\": \"TIME\", \"ICD9_CODE\":\"EVENTS\"}, inplace = True )"
   ]
  },
  {
   "cell_type": "code",
   "execution_count": 74,
   "metadata": {
    "collapsed": false
   },
   "outputs": [
    {
     "data": {
      "text/plain": [
       "240095"
      ]
     },
     "execution_count": 74,
     "metadata": {},
     "output_type": "execute_result"
    }
   ],
   "source": [
    "proc_w_time.shape[0]"
   ]
  },
  {
   "cell_type": "code",
   "execution_count": 75,
   "metadata": {
    "collapsed": false
   },
   "outputs": [
    {
     "data": {
      "text/html": [
       "<div>\n",
       "<table border=\"1\" class=\"dataframe\">\n",
       "  <thead>\n",
       "    <tr style=\"text-align: right;\">\n",
       "      <th></th>\n",
       "      <th>SUBJECT_ID</th>\n",
       "      <th>TIME</th>\n",
       "      <th>EVENTS</th>\n",
       "    </tr>\n",
       "  </thead>\n",
       "  <tbody>\n",
       "    <tr>\n",
       "      <th>0</th>\n",
       "      <td>62641</td>\n",
       "      <td>2143-07-23 07:15:00</td>\n",
       "      <td>3404</td>\n",
       "    </tr>\n",
       "    <tr>\n",
       "      <th>1</th>\n",
       "      <td>62641</td>\n",
       "      <td>2143-07-23 07:15:00</td>\n",
       "      <td>326</td>\n",
       "    </tr>\n",
       "    <tr>\n",
       "      <th>2</th>\n",
       "      <td>62641</td>\n",
       "      <td>2143-07-23 07:15:00</td>\n",
       "      <td>3348</td>\n",
       "    </tr>\n",
       "    <tr>\n",
       "      <th>3</th>\n",
       "      <td>2592</td>\n",
       "      <td>2183-06-05 21:02:00</td>\n",
       "      <td>9671</td>\n",
       "    </tr>\n",
       "    <tr>\n",
       "      <th>4</th>\n",
       "      <td>2592</td>\n",
       "      <td>2183-06-05 21:02:00</td>\n",
       "      <td>3893</td>\n",
       "    </tr>\n",
       "  </tbody>\n",
       "</table>\n",
       "</div>"
      ],
      "text/plain": [
       "  SUBJECT_ID                 TIME EVENTS\n",
       "0      62641  2143-07-23 07:15:00   3404\n",
       "1      62641  2143-07-23 07:15:00    326\n",
       "2      62641  2143-07-23 07:15:00   3348\n",
       "3       2592  2183-06-05 21:02:00   9671\n",
       "4       2592  2183-06-05 21:02:00   3893"
      ]
     },
     "execution_count": 75,
     "metadata": {},
     "output_type": "execute_result"
    }
   ],
   "source": [
    "proc_clean = proc_w_time.ix[:,[\"SUBJECT_ID\", \"TIME\",\"EVENTS\"]]\n",
    "proc_clean.head()"
   ]
  },
  {
   "cell_type": "code",
   "execution_count": 76,
   "metadata": {
    "collapsed": false
   },
   "outputs": [
    {
     "name": "stdout",
     "output_type": "stream",
     "text": [
      "0\n",
      "0\n"
     ]
    }
   ],
   "source": [
    "# no empty/null value in procesdure data set\n",
    "print proc_clean[proc_clean.EVENTS.isnull()].shape[0]\n",
    "print proc_clean[proc_clean.EVENTS.apply(lambda x: len(x.strip())) == 0].shape[0]"
   ]
  },
  {
   "cell_type": "code",
   "execution_count": 77,
   "metadata": {
    "collapsed": true
   },
   "outputs": [],
   "source": [
    "if group_icd_codes:\n",
    "    proc_clean[\"EVENTS\"] = proc_clean[\"EVENTS\"].apply(lambda x: str(x)[:3])"
   ]
  },
  {
   "cell_type": "code",
   "execution_count": 78,
   "metadata": {
    "collapsed": false
   },
   "outputs": [
    {
     "data": {
      "text/plain": [
       "'2100-06-07 19:59:00'"
      ]
     },
     "execution_count": 78,
     "metadata": {},
     "output_type": "execute_result"
    }
   ],
   "source": [
    "proc_clean.TIME.min()"
   ]
  },
  {
   "cell_type": "markdown",
   "metadata": {},
   "source": [
    "### Preprocess Proceducre MV data\n",
    "Another MIMIC procedure data. This data set contain detailed time for procedure\n",
    "\n",
    "In: PROCEDURES_ICD.csv from MIMIC3   \n",
    "\n",
    "out: df with columns \"SUBJECT_ID\", \"TIME\",\"EVENTS\"  \n",
    "\n",
    "\"TIME\" is \"START_TIME\" column \n",
    "\n",
    "\"EVENTS\" is \"ITEM_description in \"D_ITEMS.csv\" joined by \"ITEM_ID\""
   ]
  },
  {
   "cell_type": "code",
   "execution_count": 79,
   "metadata": {
    "collapsed": true
   },
   "outputs": [],
   "source": [
    "proc_events = pd.read_csv(\"./raw_mimic_data/PROCEDUREEVENTS_MV.csv\", dtype = str)"
   ]
  },
  {
   "cell_type": "code",
   "execution_count": 80,
   "metadata": {
    "collapsed": false
   },
   "outputs": [
    {
     "data": {
      "text/html": [
       "<div>\n",
       "<table border=\"1\" class=\"dataframe\">\n",
       "  <thead>\n",
       "    <tr style=\"text-align: right;\">\n",
       "      <th></th>\n",
       "      <th>ROW_ID</th>\n",
       "      <th>SUBJECT_ID</th>\n",
       "      <th>HADM_ID</th>\n",
       "      <th>ICUSTAY_ID</th>\n",
       "      <th>STARTTIME</th>\n",
       "      <th>ENDTIME</th>\n",
       "      <th>ITEMID</th>\n",
       "      <th>VALUE</th>\n",
       "      <th>VALUEUOM</th>\n",
       "      <th>LOCATION</th>\n",
       "      <th>...</th>\n",
       "      <th>ORDERCATEGORYNAME</th>\n",
       "      <th>SECONDARYORDERCATEGORYNAME</th>\n",
       "      <th>ORDERCATEGORYDESCRIPTION</th>\n",
       "      <th>ISOPENBAG</th>\n",
       "      <th>CONTINUEINNEXTDEPT</th>\n",
       "      <th>CANCELREASON</th>\n",
       "      <th>STATUSDESCRIPTION</th>\n",
       "      <th>COMMENTS_EDITEDBY</th>\n",
       "      <th>COMMENTS_CANCELEDBY</th>\n",
       "      <th>COMMENTS_DATE</th>\n",
       "    </tr>\n",
       "  </thead>\n",
       "  <tbody>\n",
       "    <tr>\n",
       "      <th>0</th>\n",
       "      <td>379</td>\n",
       "      <td>29070</td>\n",
       "      <td>115071</td>\n",
       "      <td>232563</td>\n",
       "      <td>2145-03-12 23:04:00</td>\n",
       "      <td>2145-03-12 23:05:00</td>\n",
       "      <td>225401</td>\n",
       "      <td>1</td>\n",
       "      <td>None</td>\n",
       "      <td>NaN</td>\n",
       "      <td>...</td>\n",
       "      <td>Procedures</td>\n",
       "      <td>NaN</td>\n",
       "      <td>Electrolytes</td>\n",
       "      <td>0</td>\n",
       "      <td>0</td>\n",
       "      <td>0</td>\n",
       "      <td>FinishedRunning</td>\n",
       "      <td>NaN</td>\n",
       "      <td>NaN</td>\n",
       "      <td>NaN</td>\n",
       "    </tr>\n",
       "    <tr>\n",
       "      <th>1</th>\n",
       "      <td>380</td>\n",
       "      <td>29070</td>\n",
       "      <td>115071</td>\n",
       "      <td>232563</td>\n",
       "      <td>2145-03-12 23:04:00</td>\n",
       "      <td>2145-03-12 23:05:00</td>\n",
       "      <td>225454</td>\n",
       "      <td>1</td>\n",
       "      <td>None</td>\n",
       "      <td>NaN</td>\n",
       "      <td>...</td>\n",
       "      <td>Procedures</td>\n",
       "      <td>NaN</td>\n",
       "      <td>Electrolytes</td>\n",
       "      <td>0</td>\n",
       "      <td>0</td>\n",
       "      <td>0</td>\n",
       "      <td>FinishedRunning</td>\n",
       "      <td>NaN</td>\n",
       "      <td>NaN</td>\n",
       "      <td>NaN</td>\n",
       "    </tr>\n",
       "    <tr>\n",
       "      <th>2</th>\n",
       "      <td>381</td>\n",
       "      <td>29070</td>\n",
       "      <td>115071</td>\n",
       "      <td>232563</td>\n",
       "      <td>2145-03-12 23:05:00</td>\n",
       "      <td>2145-03-18 20:01:00</td>\n",
       "      <td>225792</td>\n",
       "      <td>8456</td>\n",
       "      <td>hour</td>\n",
       "      <td>NaN</td>\n",
       "      <td>...</td>\n",
       "      <td>Ventilation</td>\n",
       "      <td>NaN</td>\n",
       "      <td>Task</td>\n",
       "      <td>1</td>\n",
       "      <td>0</td>\n",
       "      <td>0</td>\n",
       "      <td>FinishedRunning</td>\n",
       "      <td>NaN</td>\n",
       "      <td>NaN</td>\n",
       "      <td>NaN</td>\n",
       "    </tr>\n",
       "    <tr>\n",
       "      <th>3</th>\n",
       "      <td>382</td>\n",
       "      <td>29070</td>\n",
       "      <td>115071</td>\n",
       "      <td>232563</td>\n",
       "      <td>2145-03-12 23:36:00</td>\n",
       "      <td>2145-03-12 23:37:00</td>\n",
       "      <td>225402</td>\n",
       "      <td>1</td>\n",
       "      <td>None</td>\n",
       "      <td>NaN</td>\n",
       "      <td>...</td>\n",
       "      <td>Procedures</td>\n",
       "      <td>NaN</td>\n",
       "      <td>Electrolytes</td>\n",
       "      <td>0</td>\n",
       "      <td>0</td>\n",
       "      <td>0</td>\n",
       "      <td>FinishedRunning</td>\n",
       "      <td>NaN</td>\n",
       "      <td>NaN</td>\n",
       "      <td>NaN</td>\n",
       "    </tr>\n",
       "    <tr>\n",
       "      <th>4</th>\n",
       "      <td>383</td>\n",
       "      <td>29070</td>\n",
       "      <td>115071</td>\n",
       "      <td>232563</td>\n",
       "      <td>2145-03-13 01:27:00</td>\n",
       "      <td>2145-03-16 16:00:00</td>\n",
       "      <td>224560</td>\n",
       "      <td>5193</td>\n",
       "      <td>min</td>\n",
       "      <td>Right IJ</td>\n",
       "      <td>...</td>\n",
       "      <td>Invasive Lines</td>\n",
       "      <td>NaN</td>\n",
       "      <td>Task</td>\n",
       "      <td>1</td>\n",
       "      <td>0</td>\n",
       "      <td>0</td>\n",
       "      <td>FinishedRunning</td>\n",
       "      <td>NaN</td>\n",
       "      <td>NaN</td>\n",
       "      <td>NaN</td>\n",
       "    </tr>\n",
       "  </tbody>\n",
       "</table>\n",
       "<p>5 rows × 25 columns</p>\n",
       "</div>"
      ],
      "text/plain": [
       "  ROW_ID SUBJECT_ID HADM_ID ICUSTAY_ID            STARTTIME  \\\n",
       "0    379      29070  115071     232563  2145-03-12 23:04:00   \n",
       "1    380      29070  115071     232563  2145-03-12 23:04:00   \n",
       "2    381      29070  115071     232563  2145-03-12 23:05:00   \n",
       "3    382      29070  115071     232563  2145-03-12 23:36:00   \n",
       "4    383      29070  115071     232563  2145-03-13 01:27:00   \n",
       "\n",
       "               ENDTIME  ITEMID VALUE VALUEUOM  LOCATION      ...       \\\n",
       "0  2145-03-12 23:05:00  225401     1     None       NaN      ...        \n",
       "1  2145-03-12 23:05:00  225454     1     None       NaN      ...        \n",
       "2  2145-03-18 20:01:00  225792  8456     hour       NaN      ...        \n",
       "3  2145-03-12 23:37:00  225402     1     None       NaN      ...        \n",
       "4  2145-03-16 16:00:00  224560  5193      min  Right IJ      ...        \n",
       "\n",
       "  ORDERCATEGORYNAME SECONDARYORDERCATEGORYNAME ORDERCATEGORYDESCRIPTION  \\\n",
       "0        Procedures                        NaN             Electrolytes   \n",
       "1        Procedures                        NaN             Electrolytes   \n",
       "2       Ventilation                        NaN                     Task   \n",
       "3        Procedures                        NaN             Electrolytes   \n",
       "4    Invasive Lines                        NaN                     Task   \n",
       "\n",
       "  ISOPENBAG CONTINUEINNEXTDEPT CANCELREASON STATUSDESCRIPTION  \\\n",
       "0         0                  0            0   FinishedRunning   \n",
       "1         0                  0            0   FinishedRunning   \n",
       "2         1                  0            0   FinishedRunning   \n",
       "3         0                  0            0   FinishedRunning   \n",
       "4         1                  0            0   FinishedRunning   \n",
       "\n",
       "  COMMENTS_EDITEDBY COMMENTS_CANCELEDBY COMMENTS_DATE  \n",
       "0               NaN                 NaN           NaN  \n",
       "1               NaN                 NaN           NaN  \n",
       "2               NaN                 NaN           NaN  \n",
       "3               NaN                 NaN           NaN  \n",
       "4               NaN                 NaN           NaN  \n",
       "\n",
       "[5 rows x 25 columns]"
      ]
     },
     "execution_count": 80,
     "metadata": {},
     "output_type": "execute_result"
    }
   ],
   "source": [
    "proc_events.head()"
   ]
  },
  {
   "cell_type": "code",
   "execution_count": 81,
   "metadata": {
    "collapsed": false
   },
   "outputs": [
    {
     "data": {
      "text/plain": [
       "Procedures               66495\n",
       "Imaging                  46310\n",
       "Intubation/Extubation    12842\n",
       "Significant Events        9913\n",
       "Communication             8560\n",
       "CRRT Filter Change         126\n",
       "Name: ORDERCATEGORYNAME, dtype: int64"
      ]
     },
     "execution_count": 81,
     "metadata": {},
     "output_type": "execute_result"
    }
   ],
   "source": [
    "proc_events[proc_events.ORDERCATEGORYDESCRIPTION == \"Electrolytes\"].ORDERCATEGORYNAME.value_counts()"
   ]
  },
  {
   "cell_type": "code",
   "execution_count": 82,
   "metadata": {
    "collapsed": false
   },
   "outputs": [
    {
     "data": {
      "text/plain": [
       "Electrolytes    144246\n",
       "Task            113820\n",
       "Name: ORDERCATEGORYDESCRIPTION, dtype: int64"
      ]
     },
     "execution_count": 82,
     "metadata": {},
     "output_type": "execute_result"
    }
   ],
   "source": [
    "proc_events.ORDERCATEGORYDESCRIPTION.value_counts()"
   ]
  },
  {
   "cell_type": "code",
   "execution_count": 83,
   "metadata": {
    "collapsed": true
   },
   "outputs": [],
   "source": [
    "proc_clean_MV = proc_events.ix[proc_events.ORDERCATEGORYDESCRIPTION == \"Electrolytes\", [\"SUBJECT_ID\", \"STARTTIME\", \"ITEMID\"]]\n",
    "item_id = pd.read_csv(\"./raw_mimic_data/D_ITEMS.csv\", dtype = str)\n",
    "item_id = item_id.ix[:,[\"ITEMID\", \"LABEL\"]]\n",
    "proc_clean_MV = proc_clean_MV.merge(item_id, on = \"ITEMID\")"
   ]
  },
  {
   "cell_type": "code",
   "execution_count": 84,
   "metadata": {
    "collapsed": true
   },
   "outputs": [],
   "source": [
    "proc_clean_MV.rename(columns = {\"STARTTIME\" : \"TIME\",\"LABEL\": \"EVENTS\"}, inplace = True)\n",
    "proc_clean_MV = proc_clean_MV.drop([\"ITEMID\"], axis = 1)"
   ]
  },
  {
   "cell_type": "code",
   "execution_count": 85,
   "metadata": {
    "collapsed": false
   },
   "outputs": [
    {
     "name": "stderr",
     "output_type": "stream",
     "text": [
      "/Users/yichenshen/anaconda/lib/python2.7/site-packages/ipykernel/__main__.py:1: UserWarning: Boolean Series key will be reindexed to match DataFrame index.\n",
      "  if __name__ == '__main__':\n",
      "/Users/yichenshen/anaconda/lib/python2.7/site-packages/ipykernel/__main__.py:2: UserWarning: Boolean Series key will be reindexed to match DataFrame index.\n",
      "  from ipykernel import kernelapp as app\n"
     ]
    },
    {
     "name": "stdout",
     "output_type": "stream",
     "text": [
      "0\n",
      "0\n"
     ]
    }
   ],
   "source": [
    "print proc_clean_MV[proc_clean.EVENTS.isnull()].shape[0]\n",
    "print proc_clean_MV[proc_clean.EVENTS.apply(lambda x: len(x.strip()) == 0)].shape[0]\n",
    "\n",
    "proc_clean_MV[\"EVENTS\"] = proc_clean_MV.EVENTS.str.strip()\n",
    "proc_clean_MV[\"EVENTS\"] = proc_clean_MV.EVENTS.str.lower()"
   ]
  },
  {
   "cell_type": "code",
   "execution_count": 86,
   "metadata": {
    "collapsed": false
   },
   "outputs": [
    {
     "data": {
      "text/plain": [
       "'2100-07-03 02:52:00'"
      ]
     },
     "execution_count": 86,
     "metadata": {},
     "output_type": "execute_result"
    }
   ],
   "source": [
    "proc_clean_MV.TIME.min()"
   ]
  },
  {
   "cell_type": "markdown",
   "metadata": {},
   "source": [
    "### Concatenate everything together "
   ]
  },
  {
   "cell_type": "code",
   "execution_count": 87,
   "metadata": {
    "collapsed": true
   },
   "outputs": [],
   "source": [
    "use_mv = False\n",
    "\n",
    "if use_mv:\n",
    "    all_events_data = pd.concat([diag_clean,proc_clean_MV, pres_clean], axis = 0)\n",
    "else:\n",
    "    all_events_data = pd.concat([diag_clean,proc_clean, pres_clean], axis = 0)"
   ]
  },
  {
   "cell_type": "code",
   "execution_count": 88,
   "metadata": {
    "collapsed": false
   },
   "outputs": [
    {
     "data": {
      "text/plain": [
       "5047591"
      ]
     },
     "execution_count": 88,
     "metadata": {},
     "output_type": "execute_result"
    }
   ],
   "source": [
    "all_events_data.shape[0]"
   ]
  },
  {
   "cell_type": "code",
   "execution_count": 89,
   "metadata": {
    "collapsed": true
   },
   "outputs": [],
   "source": [
    "from sklearn.utils import shuffle\n",
    "#randomly shuffle the data so it breaks the sequence order with diag and procedure with same subject id and time\n",
    "all_events_data = shuffle(all_events_data).reset_index(drop=True)"
   ]
  },
  {
   "cell_type": "code",
   "execution_count": 90,
   "metadata": {
    "collapsed": true
   },
   "outputs": [],
   "source": [
    "#turn medication, diag, procedure events into integer ids (by their alphabetical order)\n",
    "all_events = all_events_data.EVENTS.unique()\n",
    "all_events.sort()\n",
    "index = np.arange(1,len(all_events)+1)\n",
    "events_lookup = pd.DataFrame({\"EVENTS\":all_events, \"EVE_INDEX\":index})"
   ]
  },
  {
   "cell_type": "code",
   "execution_count": 91,
   "metadata": {
    "collapsed": true
   },
   "outputs": [],
   "source": [
    "if use_mv:\n",
    "    events_lookup.to_csv(\"./cleaned_data/events_id_mv.csv\")\n",
    "else:\n",
    "    events_lookup.to_csv(\"./cleaned_data/events_id.csv\")"
   ]
  },
  {
   "cell_type": "code",
   "execution_count": 92,
   "metadata": {
    "collapsed": true
   },
   "outputs": [],
   "source": [
    "#merge all_events_data with event_index\n",
    "all_events_data = all_events_data.merge(events_lookup, on = \"EVENTS\")"
   ]
  },
  {
   "cell_type": "code",
   "execution_count": 93,
   "metadata": {
    "collapsed": false
   },
   "outputs": [
    {
     "data": {
      "text/html": [
       "<div>\n",
       "<table border=\"1\" class=\"dataframe\">\n",
       "  <thead>\n",
       "    <tr style=\"text-align: right;\">\n",
       "      <th></th>\n",
       "      <th>EVENTS</th>\n",
       "      <th>SUBJECT_ID</th>\n",
       "      <th>TIME</th>\n",
       "      <th>EVE_INDEX</th>\n",
       "    </tr>\n",
       "  </thead>\n",
       "  <tbody>\n",
       "    <tr>\n",
       "      <th>0</th>\n",
       "      <td>neo*iv*ampicillin sodium</td>\n",
       "      <td>10</td>\n",
       "      <td>2103-06-28 00:00:00</td>\n",
       "      <td>3505</td>\n",
       "    </tr>\n",
       "    <tr>\n",
       "      <th>1</th>\n",
       "      <td>send 500mg vial</td>\n",
       "      <td>10</td>\n",
       "      <td>2103-06-28 00:00:00</td>\n",
       "      <td>4264</td>\n",
       "    </tr>\n",
       "    <tr>\n",
       "      <th>2</th>\n",
       "      <td>966</td>\n",
       "      <td>10</td>\n",
       "      <td>2103-06-28 11:36:00</td>\n",
       "      <td>1041</td>\n",
       "    </tr>\n",
       "    <tr>\n",
       "      <th>3</th>\n",
       "      <td>998</td>\n",
       "      <td>10</td>\n",
       "      <td>2103-06-28 11:36:00</td>\n",
       "      <td>1071</td>\n",
       "    </tr>\n",
       "    <tr>\n",
       "      <th>4</th>\n",
       "      <td>V30</td>\n",
       "      <td>10</td>\n",
       "      <td>2103-06-28 11:36:00</td>\n",
       "      <td>1126</td>\n",
       "    </tr>\n",
       "  </tbody>\n",
       "</table>\n",
       "</div>"
      ],
      "text/plain": [
       "                     EVENTS SUBJECT_ID                 TIME  EVE_INDEX\n",
       "0  neo*iv*ampicillin sodium         10  2103-06-28 00:00:00       3505\n",
       "1           send 500mg vial         10  2103-06-28 00:00:00       4264\n",
       "2                       966         10  2103-06-28 11:36:00       1041\n",
       "3                       998         10  2103-06-28 11:36:00       1071\n",
       "4                       V30         10  2103-06-28 11:36:00       1126"
      ]
     },
     "execution_count": 93,
     "metadata": {},
     "output_type": "execute_result"
    }
   ],
   "source": [
    "all_events_data = all_events_data.sort_values(by = [\"SUBJECT_ID\", \"TIME\"]).reset_index(drop=True)\n",
    "all_events_data.head()"
   ]
  },
  {
   "cell_type": "code",
   "execution_count": 94,
   "metadata": {
    "collapsed": true
   },
   "outputs": [],
   "source": [
    "if use_mv:\n",
    "    all_events_data.to_csv(\"./cleaned_data/all_events_data_mv.csv\")\n",
    "else:\n",
    "    all_events_data.to_csv(\"./cleaned_data/all_events_data.csv\")"
   ]
  },
  {
   "cell_type": "markdown",
   "metadata": {},
   "source": [
    "### Explore rare words"
   ]
  },
  {
   "cell_type": "code",
   "execution_count": 95,
   "metadata": {
    "collapsed": true
   },
   "outputs": [],
   "source": [
    "eve_value_count = all_events_data.EVE_INDEX.value_counts()"
   ]
  },
  {
   "cell_type": "code",
   "execution_count": 96,
   "metadata": {
    "collapsed": false
   },
   "outputs": [
    {
     "data": {
      "text/plain": [
       "(1055,)"
      ]
     },
     "execution_count": 96,
     "metadata": {},
     "output_type": "execute_result"
    }
   ],
   "source": [
    "eve_value_count[eve_value_count < 2].shape"
   ]
  },
  {
   "cell_type": "code",
   "execution_count": 49,
   "metadata": {
    "collapsed": false
   },
   "outputs": [
    {
     "data": {
      "text/plain": [
       "count      5478.000000\n",
       "mean        921.429536\n",
       "std        6448.069811\n",
       "min           1.000000\n",
       "25%           2.000000\n",
       "50%          11.000000\n",
       "75%         123.000000\n",
       "max      193412.000000\n",
       "Name: EVE_INDEX, dtype: float64"
      ]
     },
     "execution_count": 49,
     "metadata": {},
     "output_type": "execute_result"
    }
   ],
   "source": [
    "eve_value_count.describe()"
   ]
  }
 ],
 "metadata": {
  "anaconda-cloud": {},
  "kernelspec": {
   "display_name": "jupyter_tf_gym",
   "language": "python",
   "name": "jupyter_tf_gym"
  },
  "language_info": {
   "codemirror_mode": {
    "name": "ipython",
    "version": 3
   },
   "file_extension": ".py",
   "mimetype": "text/x-python",
   "name": "python",
   "nbconvert_exporter": "python",
   "pygments_lexer": "ipython3",
   "version": "3.6.2"
  }
 },
 "nbformat": 4,
 "nbformat_minor": 1
}
