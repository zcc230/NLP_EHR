{
 "cells": [
  {
   "cell_type": "code",
   "execution_count": 1,
   "metadata": {
    "collapsed": true
   },
   "outputs": [],
   "source": [
    "import numpy as np\n",
    "import pandas as pd\n",
    "import matplotlib as plt\n",
    "%matplotlib inline"
   ]
  },
  {
   "cell_type": "code",
   "execution_count": 2,
   "metadata": {
    "collapsed": true
   },
   "outputs": [],
   "source": [
    "from gensim.models import word2vec"
   ]
  },
  {
   "cell_type": "markdown",
   "metadata": {},
   "source": [
    "### Train word2Vec model \n",
    "Train word2Vec model using preprocessed data from the initial step"
   ]
  },
  {
   "cell_type": "code",
   "execution_count": 7,
   "metadata": {
    "collapsed": false
   },
   "outputs": [],
   "source": [
    "with_time = False\n",
    "if not with_time:\n",
    "    corpus = pd.read_csv(\"../cleaned_data/all_events_data_mv.csv\", dtype = str)\n",
    "    corpus_2 = pd.read_csv(\"../cleaned_data/all_events_data.csv\", dtype = str)\n",
    "else:\n",
    "    corpus = pd.read_csv(\"./cleaned_data/all_events_data_w_time_mv.csv\", dtype = str)\n",
    "    corpus_2 = pd.read_csv(\"./cleaned_data/all_events_data_w_time.csv\", dtype = str)"
   ]
  },
  {
   "cell_type": "code",
   "execution_count": 8,
   "metadata": {
    "collapsed": true
   },
   "outputs": [],
   "source": [
    "#transfrom it to sentences format\n",
    "a = corpus.groupby(\"SUBJECT_ID\").apply(lambda x: x.EVE_INDEX.tolist())"
   ]
  },
  {
   "cell_type": "code",
   "execution_count": 9,
   "metadata": {
    "collapsed": true
   },
   "outputs": [],
   "source": [
    "a_2 = corpus_2.groupby(\"SUBJECT_ID\").apply(lambda x: x.EVE_INDEX.tolist())"
   ]
  },
  {
   "cell_type": "code",
   "execution_count": 11,
   "metadata": {
    "collapsed": true
   },
   "outputs": [],
   "source": [
    "sentence_list = a.values.tolist()\n",
    "sentence_list2 = a_2.values.tolist()"
   ]
  },
  {
   "cell_type": "code",
   "execution_count": 13,
   "metadata": {
    "collapsed": true
   },
   "outputs": [],
   "source": [
    "model = word2vec.Word2Vec(sentence_list, size=100, window=20, min_count=1, workers=2,sg=1)"
   ]
  },
  {
   "cell_type": "code",
   "execution_count": 14,
   "metadata": {
    "collapsed": true
   },
   "outputs": [],
   "source": [
    "if not with_time:\n",
    "    model.save(\"./word2vec_model/w2vmodel_mv\")\n",
    "else:\n",
    "    model.save(\"./word2vec_model/w2vmodel_mv_wt\")"
   ]
  },
  {
   "cell_type": "code",
   "execution_count": 15,
   "metadata": {
    "collapsed": false
   },
   "outputs": [],
   "source": [
    "model = word2vec.Word2Vec.load(\"../word2vec_model/w2vmodel_mv\")"
   ]
  },
  {
   "cell_type": "code",
   "execution_count": 16,
   "metadata": {
    "collapsed": false
   },
   "outputs": [
    {
     "data": {
      "text/plain": [
       "[('1691', 0.8831028938293457),\n",
       " ('3175', 0.8827768564224243),\n",
       " ('993', 0.8772915005683899),\n",
       " ('1058', 0.8718873262405396),\n",
       " ('2433', 0.8524273037910461),\n",
       " ('2786', 0.8520631194114685),\n",
       " ('3351', 0.8424271941184998),\n",
       " ('3919', 0.8393658399581909),\n",
       " ('2749', 0.8379148244857788),\n",
       " ('1027', 0.8346998691558838)]"
      ]
     },
     "execution_count": 16,
     "metadata": {},
     "output_type": "execute_result"
    }
   ],
   "source": [
    "#10646 is very similar to 10648 and 10649 which are drugs all belong to triamcinolone acetonide familiy\n",
    "model.most_similar('4000')"
   ]
  },
  {
   "cell_type": "code",
   "execution_count": 17,
   "metadata": {
    "collapsed": true
   },
   "outputs": [],
   "source": [
    "model2 = word2vec.Word2Vec(sentence_list2, size=100, window=20, min_count=1, workers=4,sg=1)"
   ]
  },
  {
   "cell_type": "code",
   "execution_count": 18,
   "metadata": {
    "collapsed": true
   },
   "outputs": [],
   "source": [
    "if not with_time:\n",
    "    model2.save(\"./word2vec_model/w2vmodel\")\n",
    "else:\n",
    "    model2.save(\"./word2vec_model/w2vmodel_wt\")"
   ]
  },
  {
   "cell_type": "code",
   "execution_count": 19,
   "metadata": {
    "collapsed": true
   },
   "outputs": [],
   "source": [
    "model2 = word2vec.Word2Vec.load(\"./word2vec_model/w2vmodel_wt\")"
   ]
  },
  {
   "cell_type": "code",
   "execution_count": 20,
   "metadata": {
    "collapsed": false
   },
   "outputs": [
    {
     "data": {
      "text/plain": [
       "[('4383', 0.9814159274101257),\n",
       " ('7', 0.9350976943969727),\n",
       " ('4386', 0.9072484374046326),\n",
       " ('2160', 0.8926616907119751),\n",
       " ('2484', 0.8924636840820312),\n",
       " ('1551', 0.8657516837120056),\n",
       " ('4532', 0.8649441599845886),\n",
       " ('4771', 0.8564106225967407),\n",
       " ('2995', 0.8544859886169434),\n",
       " ('2147', 0.8523751497268677)]"
      ]
     },
     "execution_count": 20,
     "metadata": {},
     "output_type": "execute_result"
    }
   ],
   "source": [
    "model2.most_similar('4382')"
   ]
  },
  {
   "cell_type": "code",
   "execution_count": null,
   "metadata": {
    "collapsed": true
   },
   "outputs": [],
   "source": []
  }
 ],
 "metadata": {
  "anaconda-cloud": {},
  "kernelspec": {
   "display_name": "Python 3",
   "language": "python",
   "name": "python3"
  },
  "language_info": {
   "codemirror_mode": {
    "name": "ipython",
    "version": 3
   },
   "file_extension": ".py",
   "mimetype": "text/x-python",
   "name": "python",
   "nbconvert_exporter": "python",
   "pygments_lexer": "ipython3",
   "version": "3.6.0"
  }
 },
 "nbformat": 4,
 "nbformat_minor": 1
}
